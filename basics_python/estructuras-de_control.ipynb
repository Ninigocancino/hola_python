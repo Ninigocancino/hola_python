{
 "cells": [
  {
   "cell_type": "markdown",
   "metadata": {},
   "source": [
    "# ¿Qué son las estructuras de control?"
   ]
  },
  {
   "cell_type": "markdown",
   "metadata": {},
   "source": [
    "Las estructuras de control son componentes fundamentales en la programación que permiten controlar el flujo de ejecución de un programa. Estas estructuras se utilizan para tomar decisiones, repetir acciones o realizar bifurcaciones en la ejecución de un programa. Las estructuras de control son esenciales para crear programas que sean más que simples secuencias de instrucciones. En esencia, las estructuras de control son las reglas y los mecanismos que determinan el orden en que se ejecutan las instrucciones en un programa.\n",
    "\n",
    "En python podemos usar muchas de las estructuras de controles que son comunes en otros lenguajes de programación, como: "
   ]
  },
  {
   "cell_type": "markdown",
   "metadata": {},
   "source": [
    "**Estructuras de control condicionales (if, else, elif)**\n",
    "\n",
    "Permite ejecutar un bloque de código si se cumple una condición. Si la condición no se cumple, se puede especificar un bloque alternativo para ejecutar.\n"
   ]
  },
  {
   "cell_type": "markdown",
   "metadata": {},
   "source": [
    "La estructura condicional **if** se utiliza para ejecutar un bloque de código si una condición es verdadera.\n",
    "\n",
    "\n",
    "para usar **if** en Python debes tener en cuenta estos aspectos:\n",
    "\n",
    "\n",
    "**Indentación:** En Python, la estructura del código se basa en la indentación (espacios o tabulaciones). Debes indentar el bloque de código dentro de if y else con al menos un espacio o una tabulación. La convención más común es usar cuatro espacios.\n",
    "\n",
    "\n",
    "**Dos puntos (:):** Después de la condición en el if, debes usar dos puntos para indicar el inicio de un bloque de código. Lo mismo se aplica para el else.\n",
    "\n",
    "\n",
    "**Condición:** La expresión después del if debe ser una condición que se evalúa como verdadera (True) o falsa (False). Puedes utilizar operadores de comparación (como >, <, ==, !=, etc.) y operadores lógicos (como and, or, not) en tu condición.\n",
    "\n",
    "\n",
    "**Bloque de código:** El código que deseas ejecutar si la condición es verdadera debe estar indentado dentro del bloque if. Si tienes un bloque else, el código que deseas ejecutar cuando la condición es falsa debe estar indentado dentro del bloque else."
   ]
  },
  {
   "cell_type": "code",
   "execution_count": 1,
   "metadata": {},
   "outputs": [
    {
     "name": "stdout",
     "output_type": "stream",
     "text": [
      "el mar es azul\n"
     ]
    }
   ],
   "source": [
    "#Ejemplo\n",
    "\n",
    "color = \"azul\"\n",
    "\n",
    "if color == \"azul\":\n",
    "    print(\"el mar es azul\")"
   ]
  },
  {
   "cell_type": "code",
   "execution_count": 7,
   "metadata": {},
   "outputs": [],
   "source": [
    "anio = 1950\n",
    "\n",
    "if anio == 1949:\n",
    "    print(\"es el año 1949\")"
   ]
  },
  {
   "cell_type": "markdown",
   "metadata": {},
   "source": [
    "Como la condición es verdadera se ejecuta la instrucción *print(\"el mar es azul\")* y se imprime el mensaje en consola.\n",
    "\n",
    "Pero si la condición es falsa no devolverá nada en pantalla.Para hacer que el programa devuelva algo en pantalla debemos usar la instrucción *else*"
   ]
  },
  {
   "cell_type": "code",
   "execution_count": 3,
   "metadata": {},
   "outputs": [
    {
     "name": "stdout",
     "output_type": "stream",
     "text": [
      "este no es el color del cielo\n"
     ]
    }
   ],
   "source": [
    "#Ejemplo \n",
    "\n",
    "color_cielo = \"rojo\"\n",
    "\n",
    "if color_cielo == \"azul\":\n",
    "    print(\"el cielo es azul\")\n",
    "else:\n",
    "    print(\"este no es el color del cielo\")"
   ]
  },
  {
   "cell_type": "code",
   "execution_count": 6,
   "metadata": {},
   "outputs": [
    {
     "name": "stdout",
     "output_type": "stream",
     "text": [
      "solo mayores de edad pueden entrar\n"
     ]
    }
   ],
   "source": [
    "edad = 16\n",
    "\n",
    "if edad >= 18:\n",
    "    print(\"puedes pasar\")\n",
    "else:\n",
    "    print(\"solo mayores de edad pueden entrar\")"
   ]
  },
  {
   "cell_type": "markdown",
   "metadata": {},
   "source": [
    "Como la condición es falsa el programa ejecuta la línea de codigo identada dentro del *else*"
   ]
  },
  {
   "cell_type": "markdown",
   "metadata": {},
   "source": [
    "Ahora bien, Python nos permite verificar múltiples condiciones en secuencia usando la palabra clave *elif*, una abreviatura de \"else if\", lo que significa que se evaluará si la condición en el if es falsa y, si es cierta, se pasará a la siguiente condición en el elif.\n",
    "\n",
    "\n",
    "para usar elif debemos considerar las siguientes pautas:\n",
    "\n",
    "\n",
    "**Indentación:** Al igual que con if, debes indentar el bloque de código dentro de cada elif y, opcionalmente, dentro del else.\n",
    "\n",
    "\n",
    "**Dos puntos (:):** Después de cada condición en if, elif y else, debes usar dos puntos para indicar el inicio de un bloque de código.\n",
    "\n",
    "\n",
    "**Secuencia:** Las condiciones se evalúan en secuencia, desde la primera if hasta la última elif. Si una condición es verdadera, se ejecutará el bloque de código correspondiente y no se evaluarán las condiciones restantes.\n",
    "\n",
    "\n",
    "**else opcional:** Puedes tener un bloque else al final del conjunto de condiciones para manejar el caso en que ninguna de las condiciones anteriores sea verdadera. Este bloque se ejecutará si todas las condiciones previas son falsas."
   ]
  },
  {
   "cell_type": "code",
   "execution_count": 9,
   "metadata": {},
   "outputs": [
    {
     "name": "stdout",
     "output_type": "stream",
     "text": [
      "No has aprobado\n"
     ]
    }
   ],
   "source": [
    "#Ejmplo:\n",
    "\n",
    "calificacion = 4.5\n",
    "\n",
    "if calificacion >= 9.0:\n",
    "    print(\"filicidades tienes A\")\n",
    "elif calificacion >= 8.0:\n",
    "    print(\"Tienes B\")\n",
    "elif calificacion >= 7.0:\n",
    "    print(\"Tienes C\")\n",
    "elif calificacion >= 6.0:\n",
    "    print(\"Tienes D\")\n",
    "else:\n",
    "    print(\"No has aprobado\")"
   ]
  }
 ],
 "metadata": {
  "kernelspec": {
   "display_name": "venv_hola_python",
   "language": "python",
   "name": "python3"
  },
  "language_info": {
   "codemirror_mode": {
    "name": "ipython",
    "version": 3
   },
   "file_extension": ".py",
   "mimetype": "text/x-python",
   "name": "python",
   "nbconvert_exporter": "python",
   "pygments_lexer": "ipython3",
   "version": "3.7.3"
  }
 },
 "nbformat": 4,
 "nbformat_minor": 2
}
