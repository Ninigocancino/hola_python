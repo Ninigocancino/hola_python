{
 "cells": [
  {
   "cell_type": "markdown",
   "metadata": {},
   "source": [
    "# ¿Qué son las estructuras de control?"
   ]
  },
  {
   "cell_type": "markdown",
   "metadata": {},
   "source": [
    "Las estructuras de control son componentes fundamentales en la programación que permiten controlar el flujo de ejecución de un programa. Estas estructuras se utilizan para tomar decisiones, repetir acciones o realizar bifurcaciones en la ejecución de un programa. Las estructuras de control son esenciales para crear programas que sean más que simples secuencias de instrucciones. En esencia, las estructuras de control son las reglas y los mecanismos que determinan el orden en que se ejecutan las instrucciones en un programa.\n",
    "\n",
    "En python podemos usar muchas de las estructuras de controles que son comunes en otros lenguajes de programación, como: "
   ]
  },
  {
   "cell_type": "markdown",
   "metadata": {},
   "source": [
    "**Estructuras de control condicionales (if, else, elif)**\n",
    "\n",
    "Permite ejecutar un bloque de código si se cumple una condición. Si la condición no se cumple, se puede especificar un bloque alternativo para ejecutar.\n"
   ]
  },
  {
   "cell_type": "markdown",
   "metadata": {},
   "source": [
    "La estructura condicional **if** se utiliza para ejecutar un bloque de código si una condición es verdadera.\n",
    "\n",
    "\n",
    "para usar **if** en Python debes tener en cuenta estos aspectos:\n",
    "\n",
    "\n",
    "**Indentación:** En Python, la estructura del código se basa en la indentación (espacios o tabulaciones). Debes indentar el bloque de código dentro de if y else con al menos un espacio o una tabulación. La convención más común es usar cuatro espacios.\n",
    "\n",
    "\n",
    "**Dos puntos (:):** Después de la condición en el if, debes usar dos puntos para indicar el inicio de un bloque de código. Lo mismo se aplica para el else.\n",
    "\n",
    "\n",
    "**Condición:** La expresión después del if debe ser una condición que se evalúa como verdadera (True) o falsa (False). Puedes utilizar operadores de comparación (como >, <, ==, !=, etc.) y operadores lógicos (como and, or, not) en tu condición.\n",
    "\n",
    "\n",
    "**Bloque de código:** El código que deseas ejecutar si la condición es verdadera debe estar indentado dentro del bloque if. Si tienes un bloque else, el código que deseas ejecutar cuando la condición es falsa debe estar indentado dentro del bloque else."
   ]
  },
  {
   "cell_type": "code",
   "execution_count": 1,
   "metadata": {},
   "outputs": [
    {
     "name": "stdout",
     "output_type": "stream",
     "text": [
      "el mar es azul\n"
     ]
    }
   ],
   "source": [
    "#Ejemplo\n",
    "\n",
    "color = \"azul\"\n",
    "\n",
    "if color == \"azul\":\n",
    "    print(\"el mar es azul\")"
   ]
  },
  {
   "cell_type": "code",
   "execution_count": 7,
   "metadata": {},
   "outputs": [],
   "source": [
    "anio = 1950\n",
    "\n",
    "if anio == 1949:\n",
    "    print(\"es el año 1949\")"
   ]
  },
  {
   "cell_type": "markdown",
   "metadata": {},
   "source": [
    "Como la condición es verdadera se ejecuta la instrucción *print(\"el mar es azul\")* y se imprime el mensaje en consola.\n",
    "\n",
    "Pero si la condición es falsa no devolverá nada en pantalla.Para hacer que el programa devuelva algo en pantalla debemos usar la instrucción *else*"
   ]
  },
  {
   "cell_type": "code",
   "execution_count": 3,
   "metadata": {},
   "outputs": [
    {
     "name": "stdout",
     "output_type": "stream",
     "text": [
      "este no es el color del cielo\n"
     ]
    }
   ],
   "source": [
    "#Ejemplo \n",
    "\n",
    "color_cielo = \"rojo\"\n",
    "\n",
    "if color_cielo == \"azul\":\n",
    "    print(\"el cielo es azul\")\n",
    "else:\n",
    "    print(\"este no es el color del cielo\")"
   ]
  },
  {
   "cell_type": "code",
   "execution_count": 6,
   "metadata": {},
   "outputs": [
    {
     "name": "stdout",
     "output_type": "stream",
     "text": [
      "solo mayores de edad pueden entrar\n"
     ]
    }
   ],
   "source": [
    "edad = 16\n",
    "\n",
    "if edad >= 18:\n",
    "    print(\"puedes pasar\")\n",
    "else:\n",
    "    print(\"solo mayores de edad pueden entrar\")"
   ]
  },
  {
   "cell_type": "markdown",
   "metadata": {},
   "source": [
    "Como la condición es falsa el programa ejecuta la línea de codigo identada dentro del *else*"
   ]
  },
  {
   "cell_type": "markdown",
   "metadata": {},
   "source": [
    "Ahora bien, Python nos permite verificar múltiples condiciones en secuencia usando la palabra clave *elif*, una abreviatura de \"else if\", lo que significa que se evaluará si la condición en el if es falsa y, si es cierta, se pasará a la siguiente condición en el elif.\n",
    "\n",
    "\n",
    "para usar elif debemos considerar las siguientes pautas:\n",
    "\n",
    "\n",
    "**Indentación:** Al igual que con if, debes indentar el bloque de código dentro de cada elif y, opcionalmente, dentro del else.\n",
    "\n",
    "\n",
    "**Dos puntos (:):** Después de cada condición en if, elif y else, debes usar dos puntos para indicar el inicio de un bloque de código.\n",
    "\n",
    "\n",
    "**Secuencia:** Las condiciones se evalúan en secuencia, desde la primera if hasta la última elif. Si una condición es verdadera, se ejecutará el bloque de código correspondiente y no se evaluarán las condiciones restantes.\n",
    "\n",
    "\n",
    "**else opcional:** Puedes tener un bloque else al final del conjunto de condiciones para manejar el caso en que ninguna de las condiciones anteriores sea verdadera. Este bloque se ejecutará si todas las condiciones previas son falsas."
   ]
  },
  {
   "cell_type": "code",
   "execution_count": 9,
   "metadata": {},
   "outputs": [
    {
     "name": "stdout",
     "output_type": "stream",
     "text": [
      "No has aprobado\n"
     ]
    }
   ],
   "source": [
    "#Ejmplo:\n",
    "\n",
    "calificacion = 4.5\n",
    "\n",
    "if calificacion >= 9.0:\n",
    "    print(\"filicidades tienes A\")\n",
    "elif calificacion >= 8.0:\n",
    "    print(\"Tienes B\")\n",
    "elif calificacion >= 7.0:\n",
    "    print(\"Tienes C\")\n",
    "elif calificacion >= 6.0:\n",
    "    print(\"Tienes D\")\n",
    "else:\n",
    "    print(\"No has aprobado\")"
   ]
  },
  {
   "cell_type": "markdown",
   "metadata": {},
   "source": [
    "# Ciclos"
   ]
  },
  {
   "cell_type": "markdown",
   "metadata": {},
   "source": [
    "Los ciclos en Python, también conocidos como bucles o loops, son estructuras de control que te permiten ejecutar un bloque de código repetidamente mientras se cumpla una condición o iterar sobre una secuencia de elementos. Los bucles son fundamentales en la programación, ya que te ayudan a automatizar tareas, procesar datos y realizar tareas repetitivas de manera eficiente.\n",
    "\n",
    "Python ofrece dos tipos principales de ciclos:"
   ]
  },
  {
   "cell_type": "markdown",
   "metadata": {},
   "source": [
    "**Ciclo While**\n",
    "\n",
    "\n",
    "Que permite ejecutar un bloque de código repetidamente mientras una condición específica sea verdadera. La idea es que el bloque de código se ejecuta una y otra vez hasta que la condición se vuelva falsa."
   ]
  },
  {
   "cell_type": "markdown",
   "metadata": {},
   "source": [
    "Un ciclo while básico luce de está forma:"
   ]
  },
  {
   "cell_type": "code",
   "execution_count": null,
   "metadata": {},
   "outputs": [],
   "source": [
    "while condición:\n",
    "    # Inicia el bloque de código a ejecutar mientras la condición sea verdadera\n"
   ]
  },
  {
   "cell_type": "markdown",
   "metadata": {},
   "source": [
    "La condición es una expresión que se evalúa como verdadera (True) o falsa (False). \n",
    "\n",
    "El bloque de código indentado debajo del while se ejecuta repetidamente mientras la condición sea verdadera.\n",
    "Es importante tener en cuenta que si la condición nunca se vuelve falsa, el ciclo while continuará ejecutándose indefinidamente, lo que puede llevar a un \"bucle infinito\". Por lo tanto, es crucial diseñar el ciclo while de manera que la condición se vuelva falsa en algún momento."
   ]
  },
  {
   "cell_type": "markdown",
   "metadata": {},
   "source": [
    "Algunas pautas para trabajar con ciclos while son:\n",
    "\n",
    "Asegurarse de que la condición se vuelva falsa en algún momento para evitar bucles infinitos.\n",
    "\n",
    "\n",
    "Puedes usar la instrucción break para salir del ciclo antes de que la condición se vuelva falsa si es necesario.\n",
    "\n",
    "\n",
    "Tener en cuenta que si la condición es falsa desde el principio, el bloque de código en el while no se ejecutará.\n"
   ]
  },
  {
   "cell_type": "markdown",
   "metadata": {},
   "source": [
    "El ciclo while es útil cuando no sabes cuántas veces necesitas repetir una acción y deseas que la repetición continúe hasta que se cumpla una condición específica."
   ]
  },
  {
   "cell_type": "markdown",
   "metadata": {},
   "source": [
    "Ejemplo de ciclo while:"
   ]
  },
  {
   "cell_type": "code",
   "execution_count": null,
   "metadata": {},
   "outputs": [],
   "source": [
    "contador = 1 #indica el valor inical de programa en la variable contador\n",
    "\n",
    "while contador <= 5: #aquí se inicia el ciclo, Mientras la variable contador sea menor o igual que 5 se ejecuta la línea de abajo\n",
    "    print(contador) #Primera instrucción:Imprime el valor de contador  \n",
    "    contador += 1 #Segunda instrucción: suma uno al valor de contador\n"
   ]
  },
  {
   "cell_type": "markdown",
   "metadata": {},
   "source": [
    "En el ejemplo, el ciclo while comienza con contador igual a 1. La sentencia *While contador <= 5* indica al programa que mientras contador sea menor o igual a 5, el bloque de código se ejecutará imprimiendo el valor actual de contador, y luego se incrementa en 1 en cada iteración. Cuando contador llega a 6, la condición se vuelve falsa y el ciclo se detiene."
   ]
  }
 ],
 "metadata": {
  "kernelspec": {
   "display_name": "venv_hola_python",
   "language": "python",
   "name": "python3"
  },
  "language_info": {
   "codemirror_mode": {
    "name": "ipython",
    "version": 3
   },
   "file_extension": ".py",
   "mimetype": "text/x-python",
   "name": "python",
   "nbconvert_exporter": "python",
   "pygments_lexer": "ipython3",
   "version": "3.7.3"
  }
 },
 "nbformat": 4,
 "nbformat_minor": 2
}
