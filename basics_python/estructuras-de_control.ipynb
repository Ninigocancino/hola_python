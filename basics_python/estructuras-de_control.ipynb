{
 "cells": [
  {
   "cell_type": "markdown",
   "metadata": {},
   "source": [
    "# ¿Qué son las estructuras de control?"
   ]
  },
  {
   "cell_type": "markdown",
   "metadata": {},
   "source": [
    "Las estructuras de control son componentes fundamentales en la programación que permiten controlar el flujo de ejecución de un programa. Estas estructuras se utilizan para tomar decisiones, repetir acciones o realizar bifurcaciones en la ejecución de un programa. Las estructuras de control son esenciales para crear programas que sean más que simples secuencias de instrucciones. En esencia, las estructuras de control son las reglas y los mecanismos que determinan el orden en que se ejecutan las instrucciones en un programa.\n",
    "\n",
    "En python podemos usar muchas de las estructuras de controles que son comunes en otros lenguajes de programación, como: "
   ]
  },
  {
   "cell_type": "markdown",
   "metadata": {},
   "source": [
    "## Estructuras de control condicionales (if, else, elif)"
   ]
  },
  {
   "cell_type": "markdown",
   "metadata": {},
   "source": [
    "Permite ejecutar un bloque de código si se cumple una condición. Si la condición no se cumple, se puede especificar un bloque alternativo para ejecutar.\n"
   ]
  },
  {
   "cell_type": "markdown",
   "metadata": {},
   "source": [
    "La estructura condicional **if** se utiliza para ejecutar un bloque de código si una condición es verdadera.\n",
    "\n",
    "\n",
    "para usar **if** en Python debes tener en cuenta estos aspectos:\n",
    "\n",
    "\n",
    "**Indentación:** En Python, la estructura del código se basa en la indentación (espacios o tabulaciones). Debes indentar el bloque de código dentro de if y else con al menos un espacio o una tabulación. La convención más común es usar cuatro espacios.\n",
    "\n",
    "\n",
    "**Dos puntos (:):** Después de la condición en el if, debes usar dos puntos para indicar el inicio de un bloque de código. Lo mismo se aplica para el else.\n",
    "\n",
    "\n",
    "**Condición:** La expresión después del if debe ser una condición que se evalúa como verdadera (True) o falsa (False). Puedes utilizar operadores de comparación (como >, <, ==, !=, etc.) y operadores lógicos (como and, or, not) en tu condición.\n",
    "\n",
    "\n",
    "**Bloque de código:** El código que deseas ejecutar si la condición es verdadera debe estar indentado dentro del bloque if. Si tienes un bloque else, el código que deseas ejecutar cuando la condición es falsa debe estar indentado dentro del bloque else."
   ]
  },
  {
   "cell_type": "code",
   "execution_count": 1,
   "metadata": {},
   "outputs": [
    {
     "name": "stdout",
     "output_type": "stream",
     "text": [
      "el mar es azul\n"
     ]
    }
   ],
   "source": [
    "#Ejemplo\n",
    "\n",
    "color = \"azul\"\n",
    "\n",
    "if color == \"azul\":\n",
    "    print(\"el mar es azul\")"
   ]
  },
  {
   "cell_type": "code",
   "execution_count": 7,
   "metadata": {},
   "outputs": [],
   "source": [
    "anio = 1950\n",
    "\n",
    "if anio == 1949:\n",
    "    print(\"es el año 1949\")"
   ]
  },
  {
   "cell_type": "markdown",
   "metadata": {},
   "source": [
    "Como la condición es verdadera se ejecuta la instrucción *print(\"el mar es azul\")* y se imprime el mensaje en consola.\n",
    "\n",
    "Pero si la condición es falsa no devolverá nada en pantalla.Para hacer que el programa devuelva algo en pantalla debemos usar la instrucción *else*"
   ]
  },
  {
   "cell_type": "code",
   "execution_count": 3,
   "metadata": {},
   "outputs": [
    {
     "name": "stdout",
     "output_type": "stream",
     "text": [
      "este no es el color del cielo\n"
     ]
    }
   ],
   "source": [
    "#Ejemplo \n",
    "\n",
    "color_cielo = \"rojo\"\n",
    "\n",
    "if color_cielo == \"azul\":\n",
    "    print(\"el cielo es azul\")\n",
    "else:\n",
    "    print(\"este no es el color del cielo\")"
   ]
  },
  {
   "cell_type": "code",
   "execution_count": 6,
   "metadata": {},
   "outputs": [
    {
     "name": "stdout",
     "output_type": "stream",
     "text": [
      "solo mayores de edad pueden entrar\n"
     ]
    }
   ],
   "source": [
    "edad = 16\n",
    "\n",
    "if edad >= 18:\n",
    "    print(\"puedes pasar\")\n",
    "else:\n",
    "    print(\"solo mayores de edad pueden entrar\")"
   ]
  },
  {
   "cell_type": "markdown",
   "metadata": {},
   "source": [
    "Como la condición es falsa el programa ejecuta la línea de codigo identada dentro del *else*"
   ]
  },
  {
   "cell_type": "markdown",
   "metadata": {},
   "source": [
    "Ahora bien, Python nos permite verificar múltiples condiciones en secuencia usando la palabra clave *elif*, una abreviatura de \"else if\", lo que significa que se evaluará si la condición en el if es falsa y, si es cierta, se pasará a la siguiente condición en el elif.\n",
    "\n",
    "\n",
    "para usar elif debemos considerar las siguientes pautas:\n",
    "\n",
    "\n",
    "**Indentación:** Al igual que con if, debes indentar el bloque de código dentro de cada elif y, opcionalmente, dentro del else.\n",
    "\n",
    "\n",
    "**Dos puntos (:):** Después de cada condición en if, elif y else, debes usar dos puntos para indicar el inicio de un bloque de código.\n",
    "\n",
    "\n",
    "**Secuencia:** Las condiciones se evalúan en secuencia, desde la primera if hasta la última elif. Si una condición es verdadera, se ejecutará el bloque de código correspondiente y no se evaluarán las condiciones restantes.\n",
    "\n",
    "\n",
    "**else opcional:** Puedes tener un bloque else al final del conjunto de condiciones para manejar el caso en que ninguna de las condiciones anteriores sea verdadera. Este bloque se ejecutará si todas las condiciones previas son falsas."
   ]
  },
  {
   "cell_type": "code",
   "execution_count": 9,
   "metadata": {},
   "outputs": [
    {
     "name": "stdout",
     "output_type": "stream",
     "text": [
      "No has aprobado\n"
     ]
    }
   ],
   "source": [
    "#Ejmplo:\n",
    "\n",
    "calificacion = 4.5\n",
    "\n",
    "if calificacion >= 9.0:\n",
    "    print(\"filicidades tienes A\")\n",
    "elif calificacion >= 8.0:\n",
    "    print(\"Tienes B\")\n",
    "elif calificacion >= 7.0:\n",
    "    print(\"Tienes C\")\n",
    "elif calificacion >= 6.0:\n",
    "    print(\"Tienes D\")\n",
    "else:\n",
    "    print(\"No has aprobado\")"
   ]
  },
  {
   "cell_type": "markdown",
   "metadata": {},
   "source": [
    "### Ejercicios"
   ]
  },
  {
   "cell_type": "markdown",
   "metadata": {},
   "source": [
    "Crea un programa que solicite al usuario ingresar las longitudes de los lados de un triángulo y determine si es equilátero (todos los lados iguales), isósceles (dos lados iguales) o escaleno (ningún lado igual)."
   ]
  },
  {
   "cell_type": "code",
   "execution_count": null,
   "metadata": {},
   "outputs": [],
   "source": [
    "lado_A = int(input(\"Ingresa la medida del lado A: \"))\n",
    "lado_B = int(input(\"Ingresar la medida del lado B: \"))\n",
    "lado_C = int(input(\"Ingresar la medida del lado C: \"))\n",
    "\n",
    "if lado_A and lado_B == lado_C:\n",
    "    print(\"Este es un triangulo equilatero\")\n",
    "else:\n",
    "    print(\"Este es un triangulo escaleno\")"
   ]
  },
  {
   "cell_type": "markdown",
   "metadata": {},
   "source": [
    "Escribe un programa que convierta una temperatura de grados Celsius a grados Fahrenheit o viceversa, según la elección del usuario. Utiliza una estructura if-else para determinar la conversión adecuada."
   ]
  },
  {
   "cell_type": "code",
   "execution_count": null,
   "metadata": {},
   "outputs": [],
   "source": [
    "print(\"Elige el tipo de conversión que quieres realizar\")\n",
    "print(\"Para convertir de grados Celsuius a Fahrenheit ingresa 1\")\n",
    "print(\"Para convertir de grados Fahrenheit a Celsius ingresa 2\")\n",
    "print(\" \")\n",
    "\n",
    "selector = int(input(\"¿Qué tipo de conversión quieres realizar? \"))\n",
    "\n",
    "if selector == 1:\n",
    "    grados_i = int(input(\"Ingresa los grados Ceslius que desea convertir: \"))\n",
    "    grados_C = (grados_i - 32)/1.8\n",
    "    print(f\"{grados_i}°C son equivalentes a {grados_C}°F\")\n",
    "elif selector == 2:\n",
    "    grados_i = int(input(\"Ingresa los grados Fahrenheit que desea convertir: \"))\n",
    "    grados_F = (grados_i * 1.8) + 32\n",
    "    print(f\"{grados_i}°F son equivalentes a {grados_F}°C\")\n",
    "elif selector != 1 or 2:\n",
    "    print(\"Solo podemos realizar conversones de °C a °F y viceversa\")\n",
    "#else:\n",
    "    #print(\"Selecicione una opción valida\")\n",
    "\n"
   ]
  },
  {
   "cell_type": "markdown",
   "metadata": {},
   "source": [
    " Pide al usuario ingresar su edad y calcula un descuento basado en la siguiente regla: si la edad es menor de 12 años, el descuento es del 50%; si la edad está entre 12 y 18 años, el descuento es del 25%; de lo contrario, no hay descuento."
   ]
  },
  {
   "cell_type": "code",
   "execution_count": null,
   "metadata": {},
   "outputs": [],
   "source": [
    "edad_usuario = int(input(\"Por favor ingresa tu edad: \"))\n",
    "\n",
    "if edad_usuario < 12: \n",
    "    print(\"¡¡¡Feliciades!!!\")\n",
    "    print(\"Tienes un descuento del 50%, eso significa que solo pagarás la mitad\")\n",
    "elif edad_usuario in range(12,19):\n",
    "    print(\"¡¡¡Felicidades!!!\")\n",
    "    print(\"Tienes un descuento del 25%\")\n",
    "elif edad_usuario >=19:\n",
    "    print(\"No tenemos descuentos disponibles\")"
   ]
  },
  {
   "cell_type": "markdown",
   "metadata": {},
   "source": [
    "# Ciclos"
   ]
  },
  {
   "cell_type": "markdown",
   "metadata": {},
   "source": [
    "Los ciclos en Python, también conocidos como bucles o loops, son estructuras de control que te permiten ejecutar un bloque de código repetidamente mientras se cumpla una condición o iterar sobre una secuencia de elementos. Los bucles son fundamentales en la programación, ya que te ayudan a automatizar tareas, procesar datos y realizar tareas repetitivas de manera eficiente.\n",
    "\n",
    "Python ofrece dos tipos principales de ciclos:"
   ]
  },
  {
   "cell_type": "markdown",
   "metadata": {},
   "source": [
    "## Ciclo While\n",
    "\n",
    "\n",
    "Que permite ejecutar un bloque de código repetidamente mientras una condición específica sea verdadera. La idea es que el bloque de código se ejecuta una y otra vez hasta que la condición se vuelva falsa."
   ]
  },
  {
   "cell_type": "markdown",
   "metadata": {},
   "source": [
    "Un ciclo while básico luce de está forma:"
   ]
  },
  {
   "cell_type": "code",
   "execution_count": null,
   "metadata": {},
   "outputs": [],
   "source": [
    "while condición:\n",
    "    # Inicia el bloque de código a ejecutar mientras la condición sea verdadera\n"
   ]
  },
  {
   "cell_type": "markdown",
   "metadata": {},
   "source": [
    "La condición es una expresión que se evalúa como verdadera (True) o falsa (False). \n",
    "\n",
    "El bloque de código indentado debajo del while se ejecuta repetidamente mientras la condición sea verdadera.\n",
    "Es importante tener en cuenta que si la condición nunca se vuelve falsa, el ciclo while continuará ejecutándose indefinidamente, lo que puede llevar a un \"bucle infinito\". Por lo tanto, es crucial diseñar el ciclo while de manera que la condición se vuelva falsa en algún momento."
   ]
  },
  {
   "cell_type": "markdown",
   "metadata": {},
   "source": [
    "Algunas pautas para trabajar con ciclos while son:\n",
    "\n",
    "Asegurarse de que la condición se vuelva falsa en algún momento para evitar bucles infinitos.\n",
    "\n",
    "\n",
    "Puedes usar la instrucción break para salir del ciclo antes de que la condición se vuelva falsa si es necesario.\n",
    "\n",
    "\n",
    "Tener en cuenta que si la condición es falsa desde el principio, el bloque de código en el while no se ejecutará.\n"
   ]
  },
  {
   "cell_type": "markdown",
   "metadata": {},
   "source": [
    "El ciclo while es útil cuando no sabes cuántas veces necesitas repetir una acción y deseas que la repetición continúe hasta que se cumpla una condición específica."
   ]
  },
  {
   "cell_type": "markdown",
   "metadata": {},
   "source": [
    "Ejemplo de ciclo while:"
   ]
  },
  {
   "cell_type": "code",
   "execution_count": null,
   "metadata": {},
   "outputs": [],
   "source": [
    "contador = 1 #indica el valor inical de programa en la variable contador\n",
    "\n",
    "while contador <= 5: #aquí se inicia el ciclo, Mientras la variable contador sea menor o igual que 5 se ejecuta la línea de abajo\n",
    "    print(contador) #Primera instrucción:Imprime el valor de contador  \n",
    "    contador += 1 #Segunda instrucción: suma uno al valor de contador\n"
   ]
  },
  {
   "cell_type": "markdown",
   "metadata": {},
   "source": [
    "En el ejemplo, el ciclo while comienza con contador igual a 1. La sentencia *While contador <= 5* indica al programa que mientras contador sea menor o igual a 5, el bloque de código se ejecutará imprimiendo el valor actual de contador, y luego se incrementa en 1 en cada iteración. Cuando contador llega a 6, la condición se vuelve falsa y el ciclo se detiene."
   ]
  },
  {
   "cell_type": "markdown",
   "metadata": {},
   "source": [
    "### Ejercicios"
   ]
  },
  {
   "cell_type": "markdown",
   "metadata": {},
   "source": [
    "Escribe un programa que solicite al usuario ingresar un número entero positivo y luego muestre un contador regresivo desde ese número hasta 1. Utiliza un ciclo while para realizar esta tarea."
   ]
  },
  {
   "cell_type": "code",
   "execution_count": null,
   "metadata": {},
   "outputs": [],
   "source": [
    "cuenta_r = int(input(\"Ingresa un número entero positivo: \"))\n",
    "\n",
    "while cuenta_r != 0:\n",
    "    for numero in range( 1, cuenta_r):\n",
    "        cuenta_r = cuenta_r -1\n",
    "        print(cuenta_r)\n",
    "    break"
   ]
  },
  {
   "cell_type": "markdown",
   "metadata": {},
   "source": [
    "Solicita al usuario que ingrese una serie de números enteros positivos. El programa debe continuar solicitando números al usuario y sumándolos hasta que el usuario ingrese un número negativo. En ese momento, el programa debe mostrar la suma de los números ingresados. Utiliza un ciclo while para realizar esta tarea."
   ]
  },
  {
   "cell_type": "code",
   "execution_count": null,
   "metadata": {},
   "outputs": [],
   "source": [
    "\n",
    "suma = 0\n",
    "\n",
    "\n",
    "while True:\n",
    "    numero = int(input(\"Ingresa un número entero positivo (ingresa un número negativo para terminar): \"))\n",
    "    \n",
    "    \n",
    "    if numero < 0:\n",
    "        break  \n",
    "    else:\n",
    "        suma += numero  \n",
    "\n",
    "\n",
    "print(\"La suma de los números ingresados es:\", suma)\n",
    "\n"
   ]
  },
  {
   "cell_type": "markdown",
   "metadata": {},
   "source": [
    "## Ciclo for"
   ]
  },
  {
   "cell_type": "markdown",
   "metadata": {},
   "source": [
    "El ciclo for en Python es una estructura de control que se utiliza para iterar (recorrer) una secuencia de elementos, como una lista, una tupla, una cadena, un diccionario o un rango, y ejecutar un bloque de código para cada elemento de la secuencia. A diferencia del ciclo while, el ciclo for es ideal cuando conoces de antemano la cantidad de iteraciones que deseas realizar."
   ]
  },
  {
   "cell_type": "markdown",
   "metadata": {},
   "source": [
    "Un ciclo for básico luce así:"
   ]
  },
  {
   "cell_type": "code",
   "execution_count": null,
   "metadata": {},
   "outputs": [],
   "source": [
    "for variable in secuencia:\n",
    "    # Inicia el bloque de código a ejecutar para cada elemento de la secuencia\n"
   ]
  },
  {
   "cell_type": "markdown",
   "metadata": {},
   "source": [
    "*variable* es una variable que toma el valor de cada elemento de la secuencia en cada iteración del bucle.\n",
    "\n",
    "*secuencia* es la colección de elementos sobre la que deseas iterar(lista, diccionario, tupla o rango)."
   ]
  },
  {
   "cell_type": "markdown",
   "metadata": {},
   "source": [
    "El ciclo for es muy útil para procesar colecciones de datos y realizar tareas repetitivas de manera eficiente. Podemos utilizarlo para recorrer cualquier secuencia de elementos en Python, incluidas listas, tuplas, cadenas y más."
   ]
  },
  {
   "cell_type": "markdown",
   "metadata": {},
   "source": [
    "**Ejemplos**"
   ]
  },
  {
   "cell_type": "code",
   "execution_count": null,
   "metadata": {},
   "outputs": [],
   "source": [
    "#Iterar sobre una lista\n",
    "\n",
    "frutas = [\"manzana\", \"plátano\", \"cereza\"]\n",
    "for fruta in frutas:\n",
    "    print(fruta)\n"
   ]
  },
  {
   "cell_type": "markdown",
   "metadata": {},
   "source": [
    "En este caso, el ciclo for itera sobre la lista frutas, y en cada iteración, la variable fruta toma el valor de uno de los elementos de la lista. El bloque de código imprime cada fruta."
   ]
  },
  {
   "cell_type": "markdown",
   "metadata": {},
   "source": [
    "Podrías leerlo de la siguiente forma: \n",
    "\n",
    "*Por cada fruta dentro de la lista frutas, imprime cada fruta*"
   ]
  },
  {
   "cell_type": "code",
   "execution_count": null,
   "metadata": {},
   "outputs": [],
   "source": [
    "#Iterar sobre un rango\n",
    "\n",
    "for i in range(1, 6):\n",
    "    print(i)\n"
   ]
  },
  {
   "cell_type": "markdown",
   "metadata": {},
   "source": [
    "El ciclo for aquí itera sobre un rango de números del 1 al 5. La variable i toma el valor de cada número en el rango, y el bloque de código imprime esos números."
   ]
  },
  {
   "cell_type": "markdown",
   "metadata": {},
   "source": [
    "Puedes leerlo así:\n",
    "\n",
    "*Por cada número en el rango que va de 1 a 6, imprime cada numero*\n",
    "\n",
    "Por lo que el programa imprimira los numeros 1,2,3,4 y 5, uno de ellos en cada iteración"
   ]
  },
  {
   "cell_type": "code",
   "execution_count": null,
   "metadata": {},
   "outputs": [],
   "source": [
    "#Iterar sobre un string\n",
    "\n",
    "mensaje = \"Hola\"\n",
    "for letra in mensaje:\n",
    "    print(letra)"
   ]
  },
  {
   "cell_type": "markdown",
   "metadata": {},
   "source": [
    "En este caso, el ciclo for itera sobre una cadena de texto (\"Hola\") y la variable letra toma el valor de cada carácter en la cadena. El bloque de código imprime cada letra."
   ]
  },
  {
   "cell_type": "markdown",
   "metadata": {},
   "source": [
    "Podrías leerlo así:\n",
    "\n",
    "*Para cada letra dentro del texto \"Hola\", imprime una letra*"
   ]
  },
  {
   "cell_type": "markdown",
   "metadata": {},
   "source": [
    "El ciclo for es muy útil para procesar colecciones de datos y realizar tareas repetitivas de manera eficiente. Puedes utilizarlo para recorrer cualquier secuencia de elementos en Python, incluidas listas, tuplas, cadenas y más."
   ]
  },
  {
   "cell_type": "markdown",
   "metadata": {},
   "source": [
    "En ambos tipos de bucles, es importante tener cuidado con la lógica del programa para evitar bucles infinitos, donde la condición nunca se vuelve falsa. Puedes usar sentencias como break o continue para controlar el flujo de ejecución dentro de los bucles."
   ]
  },
  {
   "cell_type": "markdown",
   "metadata": {},
   "source": [
    "### Ejercicios"
   ]
  },
  {
   "cell_type": "markdown",
   "metadata": {},
   "source": [
    "Escribe un programa que cuente y muestre la cantidad de números pares e impares en un rango de números (por ejemplo, del 1 al 50)."
   ]
  },
  {
   "cell_type": "code",
   "execution_count": null,
   "metadata": {},
   "outputs": [],
   "source": [
    "pares = []\n",
    "\n",
    "impares = []\n",
    "\n",
    "for i in range(1,50):\n",
    "  if i % 2 == 0:\n",
    "    pares.append(i)\n",
    "      #print(f\"{i}Es un numero par\")\n",
    "  else:\n",
    "    impares.append(i)\n",
    "\n",
    "pares = len(pares)\n",
    "impares = len(impares)\n",
    "\n",
    "\n",
    "print(f\"hay {pares} números pares en el rango\")\n",
    "print(f\"hay {impares} números impares en el rango\")"
   ]
  },
  {
   "cell_type": "markdown",
   "metadata": {},
   "source": [
    "Pide al usuario ingresar un número y muestra la tabla de multiplicar de ese número del 1 al 10 utilizando un bucle for."
   ]
  },
  {
   "cell_type": "code",
   "execution_count": null,
   "metadata": {},
   "outputs": [],
   "source": [
    "multiplicando = int(input(\"Ingresar un número del 1 al 10: \"))\n",
    "\n",
    "for i in range(1,10):\n",
    "    operacion = multiplicando * i\n",
    "    print(f\"{multiplicando} x {i} = {operacion}\")\n"
   ]
  },
  {
   "cell_type": "markdown",
   "metadata": {},
   "source": [
    "Escribe un programa que solicite al usuario ingresar una frase o una palabra y luego cuente y muestre el número de vocales y consonantes en esa entrada. Puedes asumir que la entrada consistirá solo en letras y espacios en blanco."
   ]
  },
  {
   "cell_type": "code",
   "execution_count": null,
   "metadata": {},
   "outputs": [],
   "source": [
    "frase = input(\"ingresa una palabra: \")\n",
    "\n",
    "vocales = [\"a\",\"e\",\"i\",\"o\",\"u\",\"A\",\"E\",\"I\",\"O\",\"U\"]\n",
    "\n",
    "consonantes = []\n",
    "\n",
    "vocales_en_frase = []\n",
    "\n",
    "for letra in frase:\n",
    "    if letra in vocales:\n",
    "        vocales_en_frase.append(letra)\n",
    "    else:\n",
    "        consonantes.append(letra)\n",
    "\n",
    "consonantes = len(consonantes)\n",
    "\n",
    "vocales_en_frase = len(vocales_en_frase)\n",
    "\n",
    "print(f\"La frase tiene {consonantes} consonantes y {vocales_en_frase} vocales\")"
   ]
  }
 ],
 "metadata": {
  "kernelspec": {
   "display_name": "venv_hola_python",
   "language": "python",
   "name": "python3"
  },
  "language_info": {
   "codemirror_mode": {
    "name": "ipython",
    "version": 3
   },
   "file_extension": ".py",
   "mimetype": "text/x-python",
   "name": "python",
   "nbconvert_exporter": "python",
   "pygments_lexer": "ipython3",
   "version": "3.7.3"
  }
 },
 "nbformat": 4,
 "nbformat_minor": 2
}
