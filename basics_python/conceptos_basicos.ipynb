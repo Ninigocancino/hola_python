{
 "cells": [
  {
   "cell_type": "markdown",
   "metadata": {},
   "source": [
    "### Sintaxis en Python"
   ]
  },
  {
   "cell_type": "markdown",
   "metadata": {},
   "source": [
    "La sintaxis de Python se refiere a las reglas y estructuras gramaticales que se utilizan para escribir código en el lenguaje de programación Python. Python se destaca por su legibilidad y su uso de espacios en blanco significativos para definir bloques de código. Aquí tienes una descripción general de la sintaxis de Python:"
   ]
  },
  {
   "cell_type": "markdown",
   "metadata": {},
   "source": [
    "**Comentarios:** Los comentarios en Python comienzan con el símbolo # y se utilizan para añadir notas o explicaciones en el código. Los comentarios son ignorados por el intérprete de Python."
   ]
  },
  {
   "cell_type": "code",
   "execution_count": null,
   "metadata": {},
   "outputs": [],
   "source": [
    "# Esto es un comentario y será ignorado por el interprete"
   ]
  },
  {
   "cell_type": "code",
   "execution_count": null,
   "metadata": {},
   "outputs": [],
   "source": [
    "\"\"\"\n",
    "Esto también es un comentario\n",
    "pero realizado en varias líneas,\n",
    "y también será ignorado por el interprete\n",
    "\"\"\""
   ]
  },
  {
   "cell_type": "markdown",
   "metadata": {},
   "source": [
    "# Tipos de datos"
   ]
  },
  {
   "cell_type": "markdown",
   "metadata": {},
   "source": [
    "**Enteros (int):**\n",
    "\n",
    "Representan números enteros.\n",
    "Pueden ser positivos o negativos.\n",
    "No tienen límite de tamaño en Python 3.\n",
    "\n",
    "Ejemplo:"
   ]
  },
  {
   "cell_type": "code",
   "execution_count": null,
   "metadata": {},
   "outputs": [],
   "source": [
    "dato_numerico = 10\n"
   ]
  },
  {
   "cell_type": "markdown",
   "metadata": {},
   "source": [
    "**Número de punto flotante**"
   ]
  },
  {
   "cell_type": "markdown",
   "metadata": {},
   "source": [
    "Representan números decimales.\n",
    "Utilizan la notación de punto flotante."
   ]
  },
  {
   "cell_type": "code",
   "execution_count": null,
   "metadata": {},
   "outputs": [],
   "source": [
    "#Ejemplo\n",
    "\n",
    "dato_flotante_o_decimal = 3.14\n"
   ]
  },
  {
   "cell_type": "markdown",
   "metadata": {},
   "source": [
    "**Cadena de texto o string**"
   ]
  },
  {
   "cell_type": "markdown",
   "metadata": {},
   "source": [
    "Los string representan texto\n",
    "Deben ser declarado entre comillas dobles (\"\") o comillas simple ('')"
   ]
  },
  {
   "cell_type": "code",
   "execution_count": null,
   "metadata": {},
   "outputs": [],
   "source": [
    "#Ejemplo\n",
    "\n",
    "estring = \"Esto es un dato de tipo texto y se interpreta como string aunque contenga numeros (1,2,3,4,5) o caracteres especiales (@,#,!,/) todo será un texto o string\"\n"
   ]
  },
  {
   "cell_type": "markdown",
   "metadata": {},
   "source": [
    "**Listas (list)**"
   ]
  },
  {
   "cell_type": "markdown",
   "metadata": {},
   "source": [
    "Almacenan una colección ordenada de elementos.\n",
    "Pueden contener elementos de diferentes tipos.\n",
    "Se definen con corchetes []."
   ]
  },
  {
   "cell_type": "code",
   "execution_count": null,
   "metadata": {},
   "outputs": [],
   "source": [
    "#Ejemplo de lista\n",
    "\n",
    "mi_lista = [1, \"dos\", 3.0]\n"
   ]
  },
  {
   "cell_type": "markdown",
   "metadata": {},
   "source": [
    "**Tuplas (tuples)**"
   ]
  },
  {
   "cell_type": "markdown",
   "metadata": {},
   "source": [
    "Son similares a las listas, pero son inmutables, es decir, no se pueden modificar después de la creación.\n",
    "Se definen con paréntesis ()."
   ]
  },
  {
   "cell_type": "code",
   "execution_count": null,
   "metadata": {},
   "outputs": [],
   "source": [
    "#ejemplo de tupla\n",
    "\n",
    "mi_tupla = (1, \"dos\", 3.0)\n"
   ]
  },
  {
   "cell_type": "markdown",
   "metadata": {},
   "source": [
    "**Diccionarios (dict)**"
   ]
  },
  {
   "cell_type": "markdown",
   "metadata": {},
   "source": [
    "Almacenan pares clave-valor.\n",
    "Las claves deben ser únicas e inmutables, generalmente cadenas o números.\n",
    "Se definen con llaves {}."
   ]
  },
  {
   "cell_type": "code",
   "execution_count": null,
   "metadata": {},
   "outputs": [],
   "source": [
    "#Ejemplo de diccionario:\n",
    "\n",
    "mi_diccionario = {\"nombre\": \"Juan\", \"edad\": 30}\n"
   ]
  },
  {
   "cell_type": "markdown",
   "metadata": {},
   "source": [
    "**Conjuntos (set):**"
   ]
  },
  {
   "cell_type": "markdown",
   "metadata": {},
   "source": [
    "Almacenan elementos únicos sin un orden específico, lo que significan que no pueden exister datos duplicados o repetidos.\n",
    "Se definen con llaves {} o la función set()."
   ]
  },
  {
   "cell_type": "code",
   "execution_count": null,
   "metadata": {},
   "outputs": [],
   "source": [
    "#Ejemplo de conjunto\n",
    "\n",
    "mi_conjunto = {1, 2, 3, 2}\n"
   ]
  },
  {
   "cell_type": "markdown",
   "metadata": {},
   "source": [
    "**Booleanos (bool)**"
   ]
  },
  {
   "cell_type": "markdown",
   "metadata": {},
   "source": [
    "Representan valores de verdad.\n",
    "Solo pueden ser True o False.\n",
    "Deben ser declarados con la primer letra en mayuscula. "
   ]
  },
  {
   "cell_type": "code",
   "execution_count": null,
   "metadata": {},
   "outputs": [],
   "source": [
    "#Ejemplo de booleanos\n",
    "\n",
    "es_cierto = True\n",
    "\n",
    "\n",
    "es_falso = False"
   ]
  },
  {
   "cell_type": "markdown",
   "metadata": {},
   "source": [
    "**Nada (NoneType)**"
   ]
  },
  {
   "cell_type": "markdown",
   "metadata": {},
   "source": [
    "Representa la ausencia de un valor.\n",
    "Se utiliza para inicializar variables o indicar la falta de retorno de una función"
   ]
  },
  {
   "cell_type": "code",
   "execution_count": null,
   "metadata": {},
   "outputs": [],
   "source": [
    "#Ejemplo de dato None\n",
    "\n",
    "x = None\n"
   ]
  },
  {
   "cell_type": "markdown",
   "metadata": {},
   "source": [
    "**Bytes y bytearray:**"
   ]
  },
  {
   "cell_type": "markdown",
   "metadata": {},
   "source": [
    "Se utilizan para representar secuencias de bytes, como datos binarios.\n",
    "Los bytes son inmutables, mientras que los bytearray son mutables."
   ]
  },
  {
   "cell_type": "code",
   "execution_count": null,
   "metadata": {},
   "outputs": [],
   "source": [
    "\n",
    "datos_binarios = b'\\x00\\x01\\x02'\n"
   ]
  },
  {
   "cell_type": "markdown",
   "metadata": {},
   "source": [
    "*Además de los datos mencionados, Python ofrece otros tipos de datos más especializados y la capacidad de crear sus propios tipos de datos personalizados utilizando clases.*"
   ]
  },
  {
   "cell_type": "markdown",
   "metadata": {},
   "source": [
    "### Variables"
   ]
  },
  {
   "cell_type": "markdown",
   "metadata": {},
   "source": [
    "Las variables se utilizan para almacenar datos y no necesitan ser declaradas explícitamente.\n",
    "\n",
    "Puedes pensar en ellas como una caja que guarda cosas que piensas usar después.\n",
    "\n",
    "Python utiliza un tipado dinámico, lo que significa que el tipo de variable se infiere automáticamente, es decir: no necesitas especificar el tipo de dato que contendrá la variable que estás creando."
   ]
  },
  {
   "cell_type": "code",
   "execution_count": null,
   "metadata": {},
   "outputs": [],
   "source": [
    "x = 10  # x es una variable entera\n",
    "nombre = \"Juan\"  # nombre es una variable de cadena\n"
   ]
  },
  {
   "cell_type": "markdown",
   "metadata": {},
   "source": [
    "### Identación"
   ]
  },
  {
   "cell_type": "markdown",
   "metadata": {},
   "source": [
    "Es el espaciado o tabulación que se coloca al comienzo de una línea de código o de un párrafo de texto para indicar su estructura o su pertenencia a un bloque de código o sección de texto.\n",
    "\n",
    "Utilizamos la identación para mejorar la legibilidad del código fuente y para indicar la jerarquía de las estructuras de control, como bucles y condicionales.\n",
    "\n",
    "En Python se utiliza la indentación para definir bloques de código en lugar de llaves o corchetes. Esto fomenta una escritura más legible y consistente."
   ]
  },
  {
   "cell_type": "markdown",
   "metadata": {},
   "source": [
    "Observa lo que pasa en python si no cuidamos de la identación en nuestro código"
   ]
  },
  {
   "cell_type": "markdown",
   "metadata": {},
   "source": [
    "Ejemplo:\n",
    "\n",
    "Definiremos una variable x con un valor de 6 y usaremos un operador condicional como if para imprimir un mensaje si se cumple la condición"
   ]
  },
  {
   "cell_type": "code",
   "execution_count": 8,
   "metadata": {},
   "outputs": [],
   "source": [
    "#Definimos la variable\n",
    "\n",
    "X = 6"
   ]
  },
  {
   "cell_type": "code",
   "execution_count": 9,
   "metadata": {},
   "outputs": [
    {
     "name": "stdout",
     "output_type": "stream",
     "text": [
      "x es mayor que 5\n"
     ]
    }
   ],
   "source": [
    "#En este caso estamos respetando la identación\n",
    "\n",
    "if x > 5:\n",
    "    print(\"x es mayor que 5\")\n",
    "\n"
   ]
  },
  {
   "cell_type": "code",
   "execution_count": 10,
   "metadata": {},
   "outputs": [
    {
     "ename": "IndentationError",
     "evalue": "expected an indented block (51981797.py, line 4)",
     "output_type": "error",
     "traceback": [
      "\u001b[1;36m  File \u001b[1;32m\"C:\\Users\\juanv\\AppData\\Local\\Temp\\ipykernel_10276\\51981797.py\"\u001b[1;36m, line \u001b[1;32m4\u001b[0m\n\u001b[1;33m    print(\"x es mayor que 5\")\u001b[0m\n\u001b[1;37m        ^\u001b[0m\n\u001b[1;31mIndentationError\u001b[0m\u001b[1;31m:\u001b[0m expected an indented block\n"
     ]
    }
   ],
   "source": [
    "#Y en esté caso la hemos omitido\n",
    "\n",
    "if x > 5:\n",
    "print(\"x es mayor que 5\")"
   ]
  },
  {
   "cell_type": "markdown",
   "metadata": {},
   "source": [
    "### Operadores"
   ]
  },
  {
   "cell_type": "markdown",
   "metadata": {},
   "source": [
    "Los operadores son símbolos especiales que se utilizan para realizar operaciones en valores y variables. Los operadores permiten realizar una variedad de operaciones, como aritmética, comparación, asignación y más. Aquí hay una breve descripción de algunos de los operadores más comunes en Python:"
   ]
  },
  {
   "cell_type": "markdown",
   "metadata": {},
   "source": [
    "**Operadores aritméticos**"
   ]
  },
  {
   "cell_type": "markdown",
   "metadata": {},
   "source": [
    "+: Suma dos valores.\n",
    "-: Resta el valor de la derecha del valor de la izquierda.\n",
    "*: Multiplica dos valores.\n",
    "/: Divide el valor de la izquierda por el valor de la derecha (la división siempre produce un valor decimal).\n",
    "//: Divide y redondea al entero más cercano.\n",
    "%: Calcula el residuo de la división.\n",
    "**: Calcula la potencia."
   ]
  },
  {
   "cell_type": "code",
   "execution_count": null,
   "metadata": {},
   "outputs": [],
   "source": [
    "a = 10\n",
    "b = 3\n",
    "suma = a + b  # 13\n",
    "resta = a - b  # 7\n",
    "producto = a * b  # 30\n",
    "division = a / b  # 3.333333...\n",
    "division_entera = a // b  # 3\n",
    "residuo = a % b  # 1\n",
    "potencia = a ** b  # 1000\n"
   ]
  },
  {
   "cell_type": "markdown",
   "metadata": {},
   "source": [
    "**Operadores de comparación**"
   ]
  },
  {
   "cell_type": "markdown",
   "metadata": {},
   "source": [
    "**\" == \"**: Comprueba si dos valores son iguales.\n",
    "**\" != \"**: Comprueba si dos valores son diferentes.\n",
    "**\" < \"**: Comprueba si el valor de la izquierda es menor que el valor de la derecha.\n",
    "**\" > \"**: Comprueba si el valor de la izquierda es mayor que el valor de la derecha.\n",
    "**\" <= \"**: Comprueba si el valor de la izquierda es menor o igual al valor de la derecha.\n",
    "**\" >= \"**: Comprueba si el valor de la izquierda es mayor o igual al valor de la derecha."
   ]
  },
  {
   "cell_type": "code",
   "execution_count": null,
   "metadata": {},
   "outputs": [],
   "source": [
    "x = 5\n",
    "y = 10\n",
    "igual = x == y  # False\n",
    "diferente = x != y  # True\n",
    "menor_que = x < y  # True\n"
   ]
  },
  {
   "cell_type": "markdown",
   "metadata": {},
   "source": [
    "**Operadores lógicos**"
   ]
  },
  {
   "cell_type": "markdown",
   "metadata": {},
   "source": [
    "**and**: Devuelve True si ambas expresiones son True.\n",
    "**or**: Devuelve True si al menos una expresión es True.\n",
    "**not**: Niega el valor de la expresión."
   ]
  },
  {
   "cell_type": "code",
   "execution_count": null,
   "metadata": {},
   "outputs": [],
   "source": [
    "a = True\n",
    "b = False\n",
    "resultado_and = a and b  # False\n",
    "resultado_or = a or b  # True\n",
    "resultado_not = not a  # False\n"
   ]
  },
  {
   "cell_type": "markdown",
   "metadata": {},
   "source": [
    "**Operadores de asignación**"
   ]
  },
  {
   "cell_type": "markdown",
   "metadata": {},
   "source": [
    "**\" = \"**: Asigna un valor a una variable.\n",
    "**\" += \"**: Suma el valor de la derecha al valor de la izquierda y luego asigna el resultado a la variable de la izquierda (por ejemplo, x += 5 es equivalente a x = x + 5).\n",
    "**\" -= \"**: Resta el valor de la derecha al valor de la izquierda y asigna el resultado a la variable de la izquierda (por ejemplo, x -= 2 es equivalente a x = x - 2).\n",
    "**\" *= \"**: Multiplica el valor de la derecha por el valor de la izquierda y asigna el resultado a la variable de la izquierda.\n",
    "**\" /= \"**: Divide el valor de la izquierda por el valor de la derecha y asigna el resultado a la variable de la izquierda."
   ]
  },
  {
   "cell_type": "code",
   "execution_count": 5,
   "metadata": {},
   "outputs": [
    {
     "name": "stdout",
     "output_type": "stream",
     "text": [
      "15\n"
     ]
    }
   ],
   "source": [
    "operador = 10\n",
    "\n",
    "operador += 5  # operador ahora es 15\n",
    "print(operador)\n"
   ]
  },
  {
   "cell_type": "code",
   "execution_count": 6,
   "metadata": {},
   "outputs": [
    {
     "name": "stdout",
     "output_type": "stream",
     "text": [
      "10\n"
     ]
    }
   ],
   "source": [
    "operador -= 5  # operador ahora es 10 de nuevo\n",
    "print(operador)"
   ]
  },
  {
   "cell_type": "code",
   "execution_count": 7,
   "metadata": {},
   "outputs": [
    {
     "name": "stdout",
     "output_type": "stream",
     "text": [
      "20\n"
     ]
    }
   ],
   "source": [
    "operador *= 2  # operador ahora será 20\n",
    "print(operador)"
   ]
  },
  {
   "cell_type": "code",
   "execution_count": 8,
   "metadata": {},
   "outputs": [
    {
     "name": "stdout",
     "output_type": "stream",
     "text": [
      "10.0\n"
     ]
    }
   ],
   "source": [
    "operador /= 2  # operador ahora será 10.0 (todo resultado de division devuelve un float o decimal)\n",
    "print(operador)"
   ]
  },
  {
   "cell_type": "markdown",
   "metadata": {},
   "source": [
    "**Operadore de pertenecia**"
   ]
  },
  {
   "cell_type": "markdown",
   "metadata": {},
   "source": [
    "**in**: Comprueba si un valor está presente en una secuencia (como una lista, tupla o cadena).\n",
    "**not in**: Comprueba si un valor no está presente en una secuencia."
   ]
  },
  {
   "cell_type": "code",
   "execution_count": 9,
   "metadata": {},
   "outputs": [
    {
     "name": "stdout",
     "output_type": "stream",
     "text": [
      "True\n",
      "True\n"
     ]
    }
   ],
   "source": [
    "lista = [1, 2, 3, 4]\n",
    "pertenece = 3 in lista  # True\n",
    "no_pertenece = 5 not in lista  # True\n",
    "\n",
    "print(pertenece)\n",
    "print(no_pertenece)"
   ]
  },
  {
   "cell_type": "markdown",
   "metadata": {},
   "source": [
    "**Operadores de identidad**"
   ]
  },
  {
   "cell_type": "markdown",
   "metadata": {},
   "source": [
    "**is**: Comprueba si dos variables se refieren al mismo objeto.\n",
    "**is not**: Comprueba si dos variables no se refieren al mismo objeto."
   ]
  },
  {
   "cell_type": "code",
   "execution_count": 11,
   "metadata": {},
   "outputs": [
    {
     "name": "stdout",
     "output_type": "stream",
     "text": [
      " a y b son el mismo objeto? True\n",
      "a y c son el mismo objeto? False\n"
     ]
    }
   ],
   "source": [
    "a = [1, 2, 3]\n",
    "b = a\n",
    "c = 4\n",
    "\n",
    "a_b_mismo_objeto = a is b  # True\n",
    "c_a_mismo_objeto = c is a\n",
    "\n",
    "\n",
    "print(f\" a y b son el mismo objeto? {a_b_mismo_objeto}\")\n",
    "print(f\"a y c son el mismo objeto? {c_a_mismo_objeto}\")"
   ]
  },
  {
   "cell_type": "markdown",
   "metadata": {},
   "source": [
    "**Operador ternario**"
   ]
  },
  {
   "cell_type": "markdown",
   "metadata": {},
   "source": [
    "El operador ternario, también conocido como operador condicional, permite realizar una asignación condicional en una sola línea."
   ]
  },
  {
   "cell_type": "code",
   "execution_count": 14,
   "metadata": {},
   "outputs": [
    {
     "name": "stdout",
     "output_type": "stream",
     "text": [
      "5\n"
     ]
    }
   ],
   "source": [
    "x = 5\n",
    "y = 10\n",
    "\n",
    "valor = x if x < y else y\n",
    "\n",
    "print(valor)\n"
   ]
  }
 ],
 "metadata": {
  "kernelspec": {
   "display_name": "venv_hola_python",
   "language": "python",
   "name": "python3"
  },
  "language_info": {
   "codemirror_mode": {
    "name": "ipython",
    "version": 3
   },
   "file_extension": ".py",
   "mimetype": "text/x-python",
   "name": "python",
   "nbconvert_exporter": "python",
   "pygments_lexer": "ipython3",
   "version": "3.7.3"
  }
 },
 "nbformat": 4,
 "nbformat_minor": 2
}
