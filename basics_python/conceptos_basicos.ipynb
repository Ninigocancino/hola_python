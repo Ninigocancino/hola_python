{
 "cells": [
  {
   "cell_type": "markdown",
   "metadata": {},
   "source": [
    "### Sintaxis en Python"
   ]
  },
  {
   "cell_type": "markdown",
   "metadata": {},
   "source": [
    "La sintaxis de Python se refiere a las reglas y estructuras gramaticales que se utilizan para escribir código en el lenguaje de programación Python. Python se destaca por su legibilidad y su uso de espacios en blanco significativos para definir bloques de código. Aquí tienes una descripción general de la sintaxis de Python:"
   ]
  },
  {
   "cell_type": "markdown",
   "metadata": {},
   "source": [
    "**Comentarios:** Los comentarios en Python comienzan con el símbolo # y se utilizan para añadir notas o explicaciones en el código. Los comentarios son ignorados por el intérprete de Python."
   ]
  },
  {
   "cell_type": "code",
   "execution_count": null,
   "metadata": {},
   "outputs": [],
   "source": [
    "# Esto es un comentario y será ignorado por el interprete"
   ]
  },
  {
   "cell_type": "code",
   "execution_count": null,
   "metadata": {},
   "outputs": [],
   "source": [
    "\"\"\"\n",
    "Esto también es un coemntario\n",
    "pero realizado en varias líneas,\n",
    "y también será ignorado por el interprete\n",
    "\"\"\""
   ]
  },
  {
   "cell_type": "markdown",
   "metadata": {},
   "source": [
    "### Variables"
   ]
  },
  {
   "cell_type": "markdown",
   "metadata": {},
   "source": [
    "Las variables se utilizan para almacenar datos y no necesitan ser declaradas explícitamente.\n",
    "\n",
    "Puedes pensar en ellas como una caja que guarda cosas que piensas usar después.\n",
    "\n",
    "Python utiliza un tipado dinámico, lo que significa que el tipo de variable se infiere automáticamente, es decir: no necesitas especificar el tipo de dato que contendrá la variable que estás creando."
   ]
  },
  {
   "cell_type": "code",
   "execution_count": null,
   "metadata": {},
   "outputs": [],
   "source": [
    "x = 10  # x es una variable entera\n",
    "nombre = \"Juan\"  # nombre es una variable de cadena\n"
   ]
  },
  {
   "cell_type": "markdown",
   "metadata": {},
   "source": [
    "### Identación"
   ]
  },
  {
   "cell_type": "markdown",
   "metadata": {},
   "source": [
    "Es el espaciado o tabulación que se coloca al comienzo de una línea de código o de un párrafo de texto para indicar su estructura o su pertenencia a un bloque de código o sección de texto.\n",
    "\n",
    "Utilizamos la identación para mejorar la legibilidad del código fuente y para indicar la jerarquía de las estructuras de control, como bucles y condicionales.\n",
    "\n",
    "En Python se utiliza la indentación para definir bloques de código en lugar de llaves o corchetes. Esto fomenta una escritura más legible y consistente."
   ]
  },
  {
   "cell_type": "markdown",
   "metadata": {},
   "source": [
    "Observa lo que pasa en python si no cuidamos de la identación en nuestro código"
   ]
  },
  {
   "cell_type": "markdown",
   "metadata": {},
   "source": [
    "Ejemplo:\n",
    "\n",
    "Definiremos una variable x con un valor de 6 y usaremos un operador condicional como if para imprimir un mensaje si se cumple la condición"
   ]
  },
  {
   "cell_type": "code",
   "execution_count": 8,
   "metadata": {},
   "outputs": [],
   "source": [
    "#Definimos la variable\n",
    "\n",
    "X = 6"
   ]
  },
  {
   "cell_type": "code",
   "execution_count": 9,
   "metadata": {},
   "outputs": [
    {
     "name": "stdout",
     "output_type": "stream",
     "text": [
      "x es mayor que 5\n"
     ]
    }
   ],
   "source": [
    "#En este caso estamos respetando la identación\n",
    "\n",
    "if x > 5:\n",
    "    print(\"x es mayor que 5\")\n",
    "\n"
   ]
  },
  {
   "cell_type": "code",
   "execution_count": 10,
   "metadata": {},
   "outputs": [
    {
     "ename": "IndentationError",
     "evalue": "expected an indented block (51981797.py, line 4)",
     "output_type": "error",
     "traceback": [
      "\u001b[1;36m  File \u001b[1;32m\"C:\\Users\\juanv\\AppData\\Local\\Temp\\ipykernel_10276\\51981797.py\"\u001b[1;36m, line \u001b[1;32m4\u001b[0m\n\u001b[1;33m    print(\"x es mayor que 5\")\u001b[0m\n\u001b[1;37m        ^\u001b[0m\n\u001b[1;31mIndentationError\u001b[0m\u001b[1;31m:\u001b[0m expected an indented block\n"
     ]
    }
   ],
   "source": [
    "#Y en esté caso la hemos omitido\n",
    "\n",
    "if x > 5:\n",
    "print(\"x es mayor que 5\")"
   ]
  },
  {
   "cell_type": "markdown",
   "metadata": {},
   "source": [
    "### Operadores"
   ]
  }
 ],
 "metadata": {
  "kernelspec": {
   "display_name": "venv_hola_python",
   "language": "python",
   "name": "python3"
  },
  "language_info": {
   "codemirror_mode": {
    "name": "ipython",
    "version": 3
   },
   "file_extension": ".py",
   "mimetype": "text/x-python",
   "name": "python",
   "nbconvert_exporter": "python",
   "pygments_lexer": "ipython3",
   "version": "3.7.3"
  }
 },
 "nbformat": 4,
 "nbformat_minor": 2
}
