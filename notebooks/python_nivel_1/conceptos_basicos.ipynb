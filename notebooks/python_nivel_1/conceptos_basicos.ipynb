{
 "cells": [
  {
   "cell_type": "markdown",
   "metadata": {},
   "source": [
    "### Sintaxis en Python"
   ]
  },
  {
   "cell_type": "markdown",
   "metadata": {},
   "source": [
    "La sintaxis de Python se refiere a las reglas y estructuras gramaticales que se utilizan para escribir código en el lenguaje de programación Python. Python se destaca por su legibilidad y su uso de espacios en blanco significativos para definir bloques de código. Aquí tienes una descripción general de la sintaxis de Python:"
   ]
  },
  {
   "cell_type": "markdown",
   "metadata": {},
   "source": [
    "**Comentarios:** Los comentarios en Python comienzan con el símbolo # y se utilizan para añadir notas o explicaciones en el código. Los comentarios son ignorados por el intérprete de Python, lo que significa que la línea o líneas de código comentadas no se ejecurán."
   ]
  },
  {
   "cell_type": "code",
   "execution_count": 2,
   "metadata": {},
   "outputs": [],
   "source": [
    "# Esto es un comentario y será ignorado por el interprete"
   ]
  },
  {
   "cell_type": "code",
   "execution_count": 3,
   "metadata": {},
   "outputs": [
    {
     "data": {
      "text/plain": [
       "'\\nEsto también es un comentario\\npero realizado en varias líneas,\\ny también será ignorado por el interprete\\n'"
      ]
     },
     "execution_count": 3,
     "metadata": {},
     "output_type": "execute_result"
    }
   ],
   "source": [
    "\"\"\"\n",
    "Esto también es un comentario\n",
    "pero realizado en varias líneas,\n",
    "y también será ignorado por el interprete\n",
    "\"\"\""
   ]
  },
  {
   "cell_type": "markdown",
   "metadata": {},
   "source": [
    "# Tipos de datos"
   ]
  },
  {
   "cell_type": "markdown",
   "metadata": {},
   "source": [
    "Los tipos de datos son las diferentes categorías o clases de valores que pueden ser utilizados y manipulados en un programa escrito en un lenguaje de programación, en este caso Python."
   ]
  },
  {
   "cell_type": "markdown",
   "metadata": {},
   "source": [
    "Python puede soportar los sigientes tipos de datos:"
   ]
  },
  {
   "cell_type": "markdown",
   "metadata": {},
   "source": [
    "**Enteros (int):**\n",
    "\n",
    "Representan números enteros.\n",
    "Pueden ser positivos o negativos.\n",
    "No tienen límite de tamaño en Python 3.\n",
    "\n",
    "Ejemplo:"
   ]
  },
  {
   "cell_type": "code",
   "execution_count": 4,
   "metadata": {},
   "outputs": [],
   "source": [
    "#En la línea siguiente la varaible 'dato_numerico' guarda un valor 'int', el numero 10\n",
    "dato_numerico = 10\n"
   ]
  },
  {
   "cell_type": "markdown",
   "metadata": {},
   "source": [
    "**Número de punto flotante**"
   ]
  },
  {
   "cell_type": "markdown",
   "metadata": {},
   "source": [
    "Representan números decimales.\n",
    "Utilizan la notación de punto flotante."
   ]
  },
  {
   "cell_type": "code",
   "execution_count": null,
   "metadata": {},
   "outputs": [],
   "source": [
    "#Ejemplo\n",
    "\n",
    "dato_flotante_o_decimal = 3.14\n"
   ]
  },
  {
   "cell_type": "markdown",
   "metadata": {},
   "source": [
    "La expresión\"punto flotante\" se refiere al hecho de que el punto decimal puede \"flotar\" (moverse) a través de los dígitos significativos del número, lo que permite representar números con diferentes magnitudes. Por ejemplo, en el número 123.45, el punto decimal puede \"flotar\" hacia la derecha para representar números más grandes como 1234.5 o hacia la izquierda para representar números más pequeños como 12.345."
   ]
  },
  {
   "cell_type": "markdown",
   "metadata": {},
   "source": [
    "**Cadena de caracteres o string**"
   ]
  },
  {
   "cell_type": "markdown",
   "metadata": {},
   "source": [
    "Los string representan texto y deben ser declarados entre comillas dobles (\"\") o comillas simples ('')"
   ]
  },
  {
   "cell_type": "code",
   "execution_count": null,
   "metadata": {},
   "outputs": [],
   "source": [
    "#Ejemplo\n",
    "\n",
    "estring = \"Esto es un dato de tipo texto y se interpreta como string aunque contenga numeros (1,2,3,4,5) o caracteres especiales (@,#,!,/) todo será un texto o string\"\n"
   ]
  },
  {
   "cell_type": "markdown",
   "metadata": {},
   "source": [
    "**Listas (list)**"
   ]
  },
  {
   "cell_type": "markdown",
   "metadata": {},
   "source": [
    "Almacenan una colección ordenada de elementos.\n",
    "Pueden contener elementos de diferentes tipos.\n",
    "Se debén declarar usando corchetes []."
   ]
  },
  {
   "cell_type": "code",
   "execution_count": null,
   "metadata": {},
   "outputs": [],
   "source": [
    "#Ejemplo de lista\n",
    "\n",
    "mi_lista = [1, \"dos\", 3.0]\n"
   ]
  },
  {
   "cell_type": "markdown",
   "metadata": {},
   "source": [
    "**Tuplas (tuples)**"
   ]
  },
  {
   "cell_type": "markdown",
   "metadata": {},
   "source": [
    "Son similares a las listas, pero son inmutables, es decir, no se pueden modificar después de la creación.\n",
    "Se definen con paréntesis ()."
   ]
  },
  {
   "cell_type": "code",
   "execution_count": null,
   "metadata": {},
   "outputs": [],
   "source": [
    "#ejemplo de tupla\n",
    "\n",
    "mi_tupla = (1, \"dos\", 3.0)\n"
   ]
  },
  {
   "cell_type": "markdown",
   "metadata": {},
   "source": [
    "**Diccionarios (dict)**"
   ]
  },
  {
   "cell_type": "markdown",
   "metadata": {},
   "source": [
    "Almacenan pares clave-valor.\n",
    "\n",
    "Las claves debén ser únicas e inmutables, generalmente cadenas de caracteres o números.\n",
    "\n",
    "Se declararn usando llaves {}.\n",
    "\n",
    "Una clave es un identificador único que tiene un valor asociado"
   ]
  },
  {
   "cell_type": "code",
   "execution_count": null,
   "metadata": {},
   "outputs": [],
   "source": [
    "#Ejemplo de diccionario:\n",
    "\n",
    "#En este ejemplo el diccionario se almacena en la variable 'mi_diccionario'. El diccionario tiene dos elementos, la clave \"nombre\" y la clave \"edad\" que tienen asociados los valores \"Juan\" y 30 respectivamente.\n",
    "mi_diccionario = {\"nombre\": \"Juan\", \"edad\": 30}\n"
   ]
  },
  {
   "cell_type": "markdown",
   "metadata": {},
   "source": [
    "**Conjuntos (set):**"
   ]
  },
  {
   "cell_type": "markdown",
   "metadata": {},
   "source": [
    "Almacenan elementos únicos sin un orden específico, lo que significa que no pueden exister datos duplicados o repetidos.\n",
    "Se declarán usando el símbolo de llaves {} o la función set()."
   ]
  },
  {
   "cell_type": "code",
   "execution_count": null,
   "metadata": {},
   "outputs": [],
   "source": [
    "#Ejemplo de conjunto\n",
    "\n",
    "mi_conjunto = {1, 2, 3, 2}\n"
   ]
  },
  {
   "cell_type": "markdown",
   "metadata": {},
   "source": [
    "**Booleanos (bool)**"
   ]
  },
  {
   "cell_type": "markdown",
   "metadata": {},
   "source": [
    "Representan valores de verdad.\n",
    "Solo pueden ser True o False.\n",
    "Deben ser declarados con la primer letra en mayuscula. "
   ]
  },
  {
   "cell_type": "code",
   "execution_count": null,
   "metadata": {},
   "outputs": [],
   "source": [
    "#Ejemplo de booleanos\n",
    "\n",
    "es_cierto = True\n",
    "\n",
    "\n",
    "es_falso = False"
   ]
  },
  {
   "cell_type": "markdown",
   "metadata": {},
   "source": [
    "**Nada (NoneType)**"
   ]
  },
  {
   "cell_type": "markdown",
   "metadata": {},
   "source": [
    "Representa la ausencia de un valor.\n",
    "Se utiliza para inicializar variables o indicar la falta de retorno de una función"
   ]
  },
  {
   "cell_type": "code",
   "execution_count": null,
   "metadata": {},
   "outputs": [],
   "source": [
    "#Ejemplo de dato None\n",
    "\n",
    "x = None\n"
   ]
  },
  {
   "cell_type": "markdown",
   "metadata": {},
   "source": [
    "**Bytes y bytearray:**"
   ]
  },
  {
   "cell_type": "markdown",
   "metadata": {},
   "source": [
    "Se utilizan para representar secuencias de bytes, como datos binarios.\n",
    "Los bytes son inmutables, mientras que los bytearray son mutables."
   ]
  },
  {
   "cell_type": "code",
   "execution_count": null,
   "metadata": {},
   "outputs": [],
   "source": [
    "\n",
    "datos_binarios = b'\\x00\\x01\\x02'\n"
   ]
  },
  {
   "cell_type": "markdown",
   "metadata": {},
   "source": [
    "*Además de los datos mencionados, Python ofrece otros tipos de datos más especializados y la capacidad de crear sus propios tipos de datos personalizados utilizando clases.*"
   ]
  },
  {
   "cell_type": "markdown",
   "metadata": {},
   "source": [
    "### Variables"
   ]
  },
  {
   "cell_type": "markdown",
   "metadata": {},
   "source": [
    "Las variables se utilizan para almacenar datos y no necesitan ser declaradas explícitamente.\n",
    "\n",
    "Puedes pensar en ellas como una caja que guarda cosas que piensas usar después.\n",
    "\n",
    "Python utiliza un tipado dinámico, lo que significa que el tipo de variable se infiere automáticamente, es decir: no necesitas especificar el tipo de dato que contendrá la variable que estás creando."
   ]
  },
  {
   "cell_type": "code",
   "execution_count": null,
   "metadata": {},
   "outputs": [],
   "source": [
    "x = 10  # x es una variable entera\n",
    "nombre = \"Juan\"  # nombre es una variable que recibe por valor una cadena de caracteres \n"
   ]
  },
  {
   "cell_type": "markdown",
   "metadata": {},
   "source": [
    "### Identación"
   ]
  },
  {
   "cell_type": "markdown",
   "metadata": {},
   "source": [
    "Es el espaciado o tabulación que se coloca al comienzo de una línea de código o de un párrafo de texto para indicar su estructura o su pertenencia a un bloque de código o sección de texto.\n",
    "\n",
    "Utilizamos la identación para mejorar la legibilidad del código fuente y para indicar la jerarquía de las estructuras de control, como bucles y condicionales.\n",
    "\n",
    "En Python se utiliza la indentación para definir bloques de código en lugar de llaves o corchetes. Esto fomenta una escritura más legible y consistente."
   ]
  },
  {
   "cell_type": "markdown",
   "metadata": {},
   "source": [
    "Observa lo que pasa en python si no cuidamos de la identación en nuestro código"
   ]
  },
  {
   "cell_type": "markdown",
   "metadata": {},
   "source": [
    "Ejemplo:\n",
    "\n",
    "Definiremos una variable x con un valor de 6 y usaremos un operador condicional como if para imprimir un mensaje si se cumple la condición"
   ]
  },
  {
   "cell_type": "code",
   "execution_count": 8,
   "metadata": {},
   "outputs": [],
   "source": [
    "#Definimos la variable\n",
    "\n",
    "X = 6"
   ]
  },
  {
   "cell_type": "code",
   "execution_count": 9,
   "metadata": {},
   "outputs": [
    {
     "name": "stdout",
     "output_type": "stream",
     "text": [
      "x es mayor que 5\n"
     ]
    }
   ],
   "source": [
    "#En este caso estamos respetando la identación\n",
    "\n",
    "if x > 5:\n",
    "    print(\"x es mayor que 5\")\n",
    "\n"
   ]
  },
  {
   "cell_type": "code",
   "execution_count": 10,
   "metadata": {},
   "outputs": [
    {
     "ename": "IndentationError",
     "evalue": "expected an indented block (51981797.py, line 4)",
     "output_type": "error",
     "traceback": [
      "\u001b[1;36m  File \u001b[1;32m\"C:\\Users\\juanv\\AppData\\Local\\Temp\\ipykernel_10276\\51981797.py\"\u001b[1;36m, line \u001b[1;32m4\u001b[0m\n\u001b[1;33m    print(\"x es mayor que 5\")\u001b[0m\n\u001b[1;37m        ^\u001b[0m\n\u001b[1;31mIndentationError\u001b[0m\u001b[1;31m:\u001b[0m expected an indented block\n"
     ]
    }
   ],
   "source": [
    "#Y en esté caso la hemos omitido\n",
    "\n",
    "if x > 5:\n",
    "print(\"x es mayor que 5\")"
   ]
  },
  {
   "cell_type": "markdown",
   "metadata": {},
   "source": [
    "# Operadores"
   ]
  },
  {
   "cell_type": "markdown",
   "metadata": {},
   "source": [
    "Los operadores son símbolos especiales que se utilizan para realizar operaciones en valores y variables. Los operadores permiten realizar una variedad de operaciones, como aritmética, comparación, asignación y más. Aquí hay una breve descripción de algunos de los operadores más comunes en Python:"
   ]
  },
  {
   "cell_type": "markdown",
   "metadata": {},
   "source": [
    "## **Operadores aritméticos**"
   ]
  },
  {
   "cell_type": "markdown",
   "metadata": {},
   "source": [
    "+: Suma dos valores.\n",
    "\n",
    "-: Resta el valor de la derecha del valor de la izquierda.\n",
    "\n",
    "*: Multiplica dos valores.\n",
    "\n",
    "/: Divide el valor de la izquierda por el valor de la derecha (la división siempre produce un valor decimal).\n",
    "\n",
    "//: Divide y redondea al entero más cercano.\n",
    "\n",
    "%: Calcula el residuo de la división.\n",
    "\n",
    "**: Calcula la potencia."
   ]
  },
  {
   "cell_type": "code",
   "execution_count": 1,
   "metadata": {},
   "outputs": [
    {
     "name": "stdout",
     "output_type": "stream",
     "text": [
      "el resultado de la operacion es: 13\n"
     ]
    }
   ],
   "source": [
    "#Ejemplo:\n",
    "#Primero declaremos las variables 'a' y 'b' para usar lso valores que guardan para realizar operaciones con los diferentes operadores aritmeticos \n",
    "a = 10\n",
    "b = 3\n",
    "\n",
    "suma = a + b  # 13\n",
    "\n",
    "resta = a - b  # 7\n",
    "\n",
    "producto = a * b  # 30\n",
    "\n",
    "division = a / b  # 3.333333...\n",
    "\n",
    "division_entera = a // b  # 3\n",
    "\n",
    "residuo = a % b  # 1\n",
    "\n",
    "potencia = a ** b  # 1000\n",
    "\n",
    "#Imprime cada una de las operaciones colocando el nombre de la variable de la operación entre los simbolos de '{}'\n",
    "\n",
    "print(f\"el resultado de la operacion es: {suma}\")\n"
   ]
  },
  {
   "cell_type": "markdown",
   "metadata": {},
   "source": [
    "### Ejercicios"
   ]
  },
  {
   "cell_type": "markdown",
   "metadata": {},
   "source": [
    "**Para reforzar el concepto de operadores aritméticos revisa los siguientes ejercicios y el código que los resuelve.**"
   ]
  },
  {
   "cell_type": "markdown",
   "metadata": {},
   "source": [
    "Escribe un programa que calcule el área de un triángulo a partir de la base y la altura proporcionadas por el usuario."
   ]
  },
  {
   "cell_type": "code",
   "execution_count": 1,
   "metadata": {},
   "outputs": [
    {
     "name": "stdout",
     "output_type": "stream",
     "text": [
      "9.0\n"
     ]
    }
   ],
   "source": [
    "#Formula para calculra área del triangulo base (b) * altura(a) /2\n",
    "\n",
    "b = 3 \n",
    "a = 6\n",
    "\n",
    "area_triangulo = b * a / 2\n",
    "\n",
    "print(area_triangulo)"
   ]
  },
  {
   "cell_type": "markdown",
   "metadata": {},
   "source": [
    "Crea un programa que convierta grados Celsius a grados Fahrenheit utilizando la fórmula de conversión."
   ]
  },
  {
   "cell_type": "code",
   "execution_count": 2,
   "metadata": {},
   "outputs": [
    {
     "name": "stdout",
     "output_type": "stream",
     "text": [
      "68.0\n"
     ]
    }
   ],
   "source": [
    "#Formula para conversion °F = (°C × 9/5) + 32\n",
    "\n",
    "c = 20\n",
    "\n",
    "grados_f = (c * (9/5)) + 32\n",
    "\n",
    "print(grados_f)"
   ]
  },
  {
   "cell_type": "markdown",
   "metadata": {},
   "source": [
    "Desarrolla un programa que calcule el precio final de un producto después de aplicar un descuento del 20%."
   ]
  },
  {
   "cell_type": "code",
   "execution_count": 4,
   "metadata": {},
   "outputs": [
    {
     "name": "stdout",
     "output_type": "stream",
     "text": [
      "56.0\n"
     ]
    }
   ],
   "source": [
    "precio_actual = 70\n",
    "\n",
    "precio_final= precio_actual - (precio_actual * (20/100)) \n",
    "\n",
    "print(precio_final)"
   ]
  },
  {
   "cell_type": "markdown",
   "metadata": {},
   "source": [
    "## **Operadores de comparación**"
   ]
  },
  {
   "cell_type": "markdown",
   "metadata": {},
   "source": [
    "**\" == \"**: Comprueba si dos valores son iguales.\n",
    "\n",
    "**\" != \"**: Comprueba si dos valores son diferentes.\n",
    "\n",
    "**\" < \"**: Comprueba si el valor de la izquierda es menor que el valor de la derecha.\n",
    "\n",
    "**\" > \"**: Comprueba si el valor de la izquierda es mayor que el valor de la derecha.\n",
    "\n",
    "**\" <= \"**: Comprueba si el valor de la izquierda es menor o igual al valor de la derecha.\n",
    "\n",
    "**\" >= \"**: Comprueba si el valor de la izquierda es mayor o igual al valor de la derecha."
   ]
  },
  {
   "cell_type": "code",
   "execution_count": null,
   "metadata": {},
   "outputs": [],
   "source": [
    "x = 5\n",
    "y = 10\n",
    "igual = x == y  # False\n",
    "diferente = x != y  # True\n",
    "menor_que = x < y  # True\n"
   ]
  },
  {
   "cell_type": "markdown",
   "metadata": {},
   "source": [
    "### Ejercicios"
   ]
  },
  {
   "cell_type": "markdown",
   "metadata": {},
   "source": [
    "**Para reforzar el concepto de operadores aritméticos revisa los siguientes ejercicios y el código que los resuelve.**"
   ]
  },
  {
   "cell_type": "markdown",
   "metadata": {},
   "source": [
    "Escribe un programa que compare dos números enteros ingresados por el usuario y determine cuál es el mayor."
   ]
  },
  {
   "cell_type": "code",
   "execution_count": 1,
   "metadata": {},
   "outputs": [
    {
     "name": "stdout",
     "output_type": "stream",
     "text": [
      "el segundo_numero es mayor\n"
     ]
    }
   ],
   "source": [
    "primer_numero = 5\n",
    "\n",
    "segundo_numero = 8\n",
    "\n",
    "if primer_numero > segundo_numero:\n",
    "    print(\"el primer numero es mayor\")\n",
    "elif segundo_numero > primer_numero:\n",
    "    print(\"el segundo_numero es mayor\")\n",
    "elif primer_numero == segundo_numero:\n",
    "    print(\"son numeros iguales\")"
   ]
  },
  {
   "cell_type": "markdown",
   "metadata": {},
   "source": [
    "Crea un programa que verifique si una contraseña ingresada por el usuario coincide con una contraseña predefinida."
   ]
  },
  {
   "cell_type": "code",
   "execution_count": 1,
   "metadata": {},
   "outputs": [
    {
     "name": "stdout",
     "output_type": "stream",
     "text": [
      "¿Puede ingresar el usuario? False\n"
     ]
    }
   ],
   "source": [
    "\n",
    "contraseña = \"hola123\" \n",
    "\n",
    "contraseña_ingresada = \"nola\" #Agrega una cadena de caracteres y ejecuta la celda\n",
    "\n",
    "acceso_permitido = contraseña == contraseña_ingresada\n",
    "\n",
    "print(f\"¿Puede ingresar el usuario? {acceso_permitido}\")"
   ]
  },
  {
   "cell_type": "markdown",
   "metadata": {},
   "source": [
    "Desarrolla un programa que determine si un número ingresado por el usuario es par o impar."
   ]
  },
  {
   "cell_type": "code",
   "execution_count": 2,
   "metadata": {},
   "outputs": [
    {
     "name": "stdout",
     "output_type": "stream",
     "text": [
      "es impar\n"
     ]
    }
   ],
   "source": [
    "numero = 5\n",
    "\n",
    "if numero % 2== 0:\n",
    "    print(\"es par\")\n",
    "else:\n",
    "    print(\"es impar\")\n"
   ]
  },
  {
   "cell_type": "markdown",
   "metadata": {},
   "source": [
    "## **Operadores lógicos**"
   ]
  },
  {
   "cell_type": "markdown",
   "metadata": {},
   "source": [
    "Los operadores lógicos en Python son símbolos que se utilizan para realizar operaciones lógicas entre dos o más valores booleanos (True o False).Utilizamos los operadores lógicos principalmente para realizar operaciones de evaluación y toma de decisiones en programas y scripts, como en **expresiones condicionales**, **filtrado de datos**, **validación de entradas de usuario**, **combinación de condiciones** y otros."
   ]
  },
  {
   "cell_type": "markdown",
   "metadata": {},
   "source": [
    "Los operadores lógicos más comunes en Python son:\n",
    "\n",
    "**and**: Devuelve True si ambas expresiones son True.\n",
    "\n",
    "**or**: Devuelve True si al menos una expresión es True.\n",
    "\n",
    "**not**: Niega el valor de la expresión."
   ]
  },
  {
   "cell_type": "code",
   "execution_count": null,
   "metadata": {},
   "outputs": [],
   "source": [
    "a = True\n",
    "b = False\n",
    "resultado_and = a and b  # False\n",
    "resultado_or = a or b  # True\n",
    "resultado_not = not a  # False\n",
    "\n",
    "print(resultado_and) #Sustituye la variable dentro de la función print para confirmar cada resultado"
   ]
  },
  {
   "cell_type": "markdown",
   "metadata": {},
   "source": [
    "### Ejercicios"
   ]
  },
  {
   "cell_type": "markdown",
   "metadata": {},
   "source": [
    "\n",
    "**Para reforzar el concepto de operadores aritméticos revisa los siguientes ejercicios y el código que los resuelve.**"
   ]
  },
  {
   "cell_type": "markdown",
   "metadata": {},
   "source": [
    "Escribe un programa que determine si un número en una variable es divisible por 3 y 5 al mismo tiempo."
   ]
  },
  {
   "cell_type": "code",
   "execution_count": 4,
   "metadata": {},
   "outputs": [
    {
     "name": "stdout",
     "output_type": "stream",
     "text": [
      "La condición no se cumple (es False)\n"
     ]
    }
   ],
   "source": [
    "\n",
    "num = 2\n",
    "\n",
    "if num % 3 == 0 and num % 5 == 0:\n",
    "    print(\"se cumple la condicón (es True)\")\n",
    "else:\n",
    "    print(\"La condición no se cumple (es False)\")"
   ]
  },
  {
   "cell_type": "markdown",
   "metadata": {},
   "source": [
    "Crea un programa que verifique si un año almacenado en una variable  bisiesto (divisible por 4 y no divisible por 100 o divisible por 400)."
   ]
  },
  {
   "cell_type": "code",
   "execution_count": 5,
   "metadata": {},
   "outputs": [
    {
     "name": "stdout",
     "output_type": "stream",
     "text": [
      "es biciesto\n"
     ]
    }
   ],
   "source": [
    "anio = 1988 #escribe un año\n",
    "\n",
    "if (anio % 4 == 0 and anio % 100 != 0) or anio % 400 == 0:\n",
    "    print(\"es biciesto\")\n",
    "else:\n",
    "  print(\"no es biciesto\")"
   ]
  },
  {
   "cell_type": "markdown",
   "metadata": {},
   "source": [
    "Desarrolla que use dos valores booleanos y muestre el resultado de aplicar la operación OR lógica entre ellos."
   ]
  },
  {
   "cell_type": "code",
   "execution_count": null,
   "metadata": {},
   "outputs": [],
   "source": [
    "\n",
    "valor_1 = input(\"Ingresa True or False: \")\n",
    "valor_2 = input(\"Ingresa True or False: \")\n",
    "\n",
    "if valor_1 == \"True\":\n",
    "    valor_1=True\n",
    "elif valor_2 == \"False\":\n",
    "    valor_2 = False\n",
    "\n",
    "\n",
    "operacion = valor_1 or valor_2\n",
    "\n",
    "print(operacion)\n"
   ]
  },
  {
   "cell_type": "markdown",
   "metadata": {},
   "source": [
    "### **Operadores de asignación**"
   ]
  },
  {
   "cell_type": "markdown",
   "metadata": {},
   "source": [
    "**\" = \"**: Asigna un valor a una variable.\n",
    "\n",
    "**\" += \"**: Suma el valor de la derecha al valor de la izquierda y luego asigna el resultado a la variable de la izquierda (por ejemplo, x += 5 es equivalente a x = x + 5).\n",
    "\n",
    "**\" -= \"**: Resta el valor de la derecha al valor de la izquierda y asigna el resultado a la variable de la izquierda (por ejemplo, x -= 2 es equivalente a x = x - 2).\n",
    "\n",
    "**\" *= \"**: Multiplica el valor de la derecha por el valor de la izquierda y asigna el resultado a la variable de la izquierda.\n",
    "\n",
    "**\" /= \"**: Divide el valor de la izquierda por el valor de la derecha y asigna el resultado a la variable de la izquierda."
   ]
  },
  {
   "cell_type": "code",
   "execution_count": 5,
   "metadata": {},
   "outputs": [
    {
     "name": "stdout",
     "output_type": "stream",
     "text": [
      "15\n"
     ]
    }
   ],
   "source": [
    "operador = 10\n",
    "\n",
    "operador += 5  # operador ahora es 15\n",
    "print(operador)\n"
   ]
  },
  {
   "cell_type": "code",
   "execution_count": 6,
   "metadata": {},
   "outputs": [
    {
     "name": "stdout",
     "output_type": "stream",
     "text": [
      "10\n"
     ]
    }
   ],
   "source": [
    "operador -= 5  # operador ahora es 10 de nuevo\n",
    "print(operador)"
   ]
  },
  {
   "cell_type": "code",
   "execution_count": 7,
   "metadata": {},
   "outputs": [
    {
     "name": "stdout",
     "output_type": "stream",
     "text": [
      "20\n"
     ]
    }
   ],
   "source": [
    "operador *= 2  # operador ahora será 20\n",
    "print(operador)"
   ]
  },
  {
   "cell_type": "code",
   "execution_count": 8,
   "metadata": {},
   "outputs": [
    {
     "name": "stdout",
     "output_type": "stream",
     "text": [
      "10.0\n"
     ]
    }
   ],
   "source": [
    "operador /= 2  # operador ahora será 10.0 (todo resultado de division devuelve un float o decimal)\n",
    "print(operador)"
   ]
  },
  {
   "cell_type": "markdown",
   "metadata": {},
   "source": [
    "**Ejercicios**"
   ]
  },
  {
   "cell_type": "markdown",
   "metadata": {},
   "source": [
    "Crea un programa que registre el número de pasos dados por una persona cada día de la semana. Utiliza operadores de asignación para calcular el total de pasos al final de la semana."
   ]
  },
  {
   "cell_type": "code",
   "execution_count": null,
   "metadata": {},
   "outputs": [],
   "source": [
    "total_pasos = 0\n",
    "\n",
    "pasos_por_dia = {\n",
    "  \"Lunes\": 0,\n",
    "  \"Martes\":0,\n",
    "  \"Miercoles\":0,\n",
    "  \"Jueves\":0,\n",
    "  \"Viernes\":0,\n",
    "  \"Sabado\":0,\n",
    "  \"Domingo\":0\n",
    "}\n",
    "\n",
    "for dia in pasos_por_dia:\n",
    "  pasos =int(input(f\"Agrega los pasos del {dia}: \"))\n",
    "  pasos_por_dia[dia]= pasos\n",
    "\n",
    "\n",
    "for pasos in pasos_por_dia.values():\n",
    "  total_pasos += pasos\n",
    "\n",
    "\n",
    "print(f\"Total de pasos dados en la semana: {total_pasos}\")"
   ]
  },
  {
   "cell_type": "markdown",
   "metadata": {},
   "source": [
    "Escribe un programa que inicie con un valor entero de 10 y use un operador de asignación para reducir el valor en 1 en cada iteración. Imprime el valor en cada iteración y detén el programa cuando llegue a 0."
   ]
  },
  {
   "cell_type": "code",
   "execution_count": null,
   "metadata": {},
   "outputs": [],
   "source": [
    "inicio = 11\n",
    "\n",
    "for i in range(inicio, 0, -1):\n",
    "  i -=1\n",
    "  print(i)"
   ]
  },
  {
   "cell_type": "markdown",
   "metadata": {},
   "source": [
    "### **Operadore de pertenecia**"
   ]
  },
  {
   "cell_type": "markdown",
   "metadata": {},
   "source": [
    "**in**: Comprueba si un valor está presente en una secuencia (como una lista, tupla o cadena).\n",
    "**not in**: Comprueba si un valor no está presente en una secuencia."
   ]
  },
  {
   "cell_type": "code",
   "execution_count": 9,
   "metadata": {},
   "outputs": [
    {
     "name": "stdout",
     "output_type": "stream",
     "text": [
      "True\n",
      "True\n"
     ]
    }
   ],
   "source": [
    "lista = [1, 2, 3, 4]\n",
    "pertenece = 3 in lista  # True\n",
    "no_pertenece = 5 not in lista  # True\n",
    "\n",
    "print(pertenece)\n",
    "print(no_pertenece)"
   ]
  },
  {
   "cell_type": "markdown",
   "metadata": {},
   "source": [
    "**Ejercicios**"
   ]
  },
  {
   "cell_type": "markdown",
   "metadata": {},
   "source": [
    "Escribe un programa que pida al usuario ingresar un número entero y luego verifique si ese número está en una lista de números predefinida. Debe imprimir un mensaje que indique si el número está en la lista o no."
   ]
  },
  {
   "cell_type": "code",
   "execution_count": null,
   "metadata": {},
   "outputs": [],
   "source": [
    "numeros = [1,2,3,4,5,6,7]\n",
    "\n",
    "nu = int(input(\"Ingresa un numero entero: \"))\n",
    "\n",
    "if nu in numeros:\n",
    "  print(f\"El numero {nu} esta en la lista\")\n",
    "\n",
    "else:\n",
    "  print(f\"el numero {nu} no esta en la lista\")"
   ]
  },
  {
   "cell_type": "markdown",
   "metadata": {},
   "source": [
    "Crea un programa que pida al usuario ingresar una letra y luego compruebe si esa letra se encuentra en una cadena predefinida. Debe mostrar un mensaje que indique si la letra está en la cadena o no."
   ]
  },
  {
   "cell_type": "code",
   "execution_count": null,
   "metadata": {},
   "outputs": [],
   "source": [
    "mensaje_secreto = \"Hola Mundo\"\n",
    "\n",
    "letra_usuario = input(\"Escribe una letra: \")\n",
    "\n",
    "if letra_usuario in mensaje_secreto:\n",
    "  print(f\"la letra '{letra_usuario}' se encuentra en el mensaje '{mensaje_secreto}'\")\n",
    "else:\n",
    "  print(f\"la letra '{letra_usuario}' no se encuentra en el mensaje '{mensaje_secreto}'\")"
   ]
  },
  {
   "cell_type": "markdown",
   "metadata": {},
   "source": [
    "### **Operadores de identidad**"
   ]
  },
  {
   "cell_type": "markdown",
   "metadata": {},
   "source": [
    "**is**: Comprueba si dos variables se refieren al mismo objeto.\n",
    "**is not**: Comprueba si dos variables no se refieren al mismo objeto."
   ]
  },
  {
   "cell_type": "code",
   "execution_count": 11,
   "metadata": {},
   "outputs": [
    {
     "name": "stdout",
     "output_type": "stream",
     "text": [
      " a y b son el mismo objeto? True\n",
      "a y c son el mismo objeto? False\n"
     ]
    }
   ],
   "source": [
    "a = [1, 2, 3]\n",
    "b = a\n",
    "c = 4\n",
    "\n",
    "a_b_mismo_objeto = a is b  # True\n",
    "c_a_mismo_objeto = c is a\n",
    "\n",
    "\n",
    "print(f\" a y b son el mismo objeto? {a_b_mismo_objeto}\")\n",
    "print(f\"a y c son el mismo objeto? {c_a_mismo_objeto}\")"
   ]
  },
  {
   "cell_type": "markdown",
   "metadata": {},
   "source": [
    "**Ejercicios**"
   ]
  },
  {
   "cell_type": "markdown",
   "metadata": {},
   "source": [
    "Escribe un programa que compare dos listas ingresadas por el usuario y determine si son la misma lista (es decir, si se refieren al mismo objeto en la memoria) utilizando el operador de identidad (is)."
   ]
  },
  {
   "cell_type": "code",
   "execution_count": null,
   "metadata": {},
   "outputs": [],
   "source": [
    "# Función para comparar dos listas y determinar si son el mismo objeto en la memoria\n",
    "def son_mismas_listas(lista1, lista2):\n",
    "    return lista1 is lista2\n",
    "\n",
    "# Solicitar al usuario que ingrese dos listas\n",
    "lista1 = eval(input(\"Ingresa la primera lista: \"))\n",
    "lista2 = eval(input(\"Ingresa la segunda lista: \"))\n",
    "\n",
    "# Comparar las listas\n",
    "if son_mismas_listas(lista1, lista2):\n",
    "    print(\"Las listas son el mismo objeto en la memoria.\")\n",
    "else:\n",
    "    print(\"Las listas no son el mismo objeto en la memoria.\")"
   ]
  },
  {
   "cell_type": "markdown",
   "metadata": {},
   "source": [
    "Crea un programa que verifique si dos variables ingresadas por el usuario se refieren al mismo objeto. Pídele al usuario que ingrese el nombre de dos variables y utilice el operador de identidad para determinar si ambas variables se refieren al mismo objeto."
   ]
  },
  {
   "cell_type": "code",
   "execution_count": null,
   "metadata": {},
   "outputs": [],
   "source": [
    "# Solicitar al usuario que ingrese el nombre de dos variables\n",
    "nombre_variable1 = input(\"Ingresa el nombre de la primera variable: \")\n",
    "nombre_variable2 = input(\"Ingresa el nombre de la segunda variable: \")\n",
    "\n",
    "# Comprueba si las variables existen en el ámbito actual\n",
    "if nombre_variable1 in locals() and nombre_variable2 in locals():\n",
    "    variable1 = locals()[nombre_variable1]\n",
    "    variable2 = locals()[nombre_variable2]\n",
    "\n",
    "    # Compara las variables usando el operador de identidad 'is'\n",
    "    if variable1 is variable2:\n",
    "        print(f\"Las variables '{nombre_variable1}' y '{nombre_variable2}' se refieren al mismo objeto en la memoria.\")\n",
    "    else:\n",
    "        print(f\"Las variables '{nombre_variable1}' y '{nombre_variable2}' no se refieren al mismo objeto en la memoria.\")\n",
    "else:\n",
    "    print(\"Al menos una de las variables no existe en el ámbito actual.\")\n"
   ]
  },
  {
   "cell_type": "markdown",
   "metadata": {},
   "source": [
    "Desarrolla un programa que intercambie los valores de dos variables sin utilizar una variable temporal. Utiliza el operador de identidad para asegurarte de que las variables se actualicen correctamente."
   ]
  },
  {
   "cell_type": "code",
   "execution_count": null,
   "metadata": {},
   "outputs": [],
   "source": [
    "# Solicitar al usuario que ingrese los valores de las dos variables\n",
    "valor1 = input(\"Ingresa el valor de la primera variable: \")\n",
    "valor2 = input(\"Ingresa el valor de la segunda variable: \")\n",
    "\n",
    "# Mostrar los valores originales\n",
    "print(f\"Valores originales: valor1 = {valor1}, valor2 = {valor2}\")\n",
    "\n",
    "# Intercambiar los valores sin usar una variable temporal\n",
    "valor1, valor2 = valor2, valor1\n",
    "\n",
    "# Mostrar los valores intercambiados\n",
    "print(f\"Valores intercambiados: valor1 = {valor1}, valor2 = {valor2}\")\n"
   ]
  },
  {
   "cell_type": "markdown",
   "metadata": {},
   "source": [
    "### **Operador ternario**"
   ]
  },
  {
   "cell_type": "markdown",
   "metadata": {},
   "source": [
    "El operador ternario, también conocido como operador condicional, permite realizar una asignación condicional en una sola línea."
   ]
  },
  {
   "cell_type": "code",
   "execution_count": 14,
   "metadata": {},
   "outputs": [
    {
     "name": "stdout",
     "output_type": "stream",
     "text": [
      "5\n"
     ]
    }
   ],
   "source": [
    "x = 5\n",
    "y = 10\n",
    "\n",
    "valor = x if x < y else y\n",
    "\n",
    "print(valor)\n"
   ]
  },
  {
   "cell_type": "markdown",
   "metadata": {},
   "source": [
    "**Ejercicios**"
   ]
  },
  {
   "cell_type": "markdown",
   "metadata": {},
   "source": [
    "Escribe un programa que solicite al usuario ingresar un número y luego determine si ese número es par o impar. Utiliza un operador ternario para mostrar el resultado."
   ]
  },
  {
   "cell_type": "code",
   "execution_count": null,
   "metadata": {},
   "outputs": [],
   "source": [
    "\n",
    "numero = int(input(\"Ingresa un número: \"))\n",
    "resultado = \"par\" if numero % 2 == 0 else \"impar\"\n",
    "print(f\"El número {numero} es {resultado}.\")\n"
   ]
  },
  {
   "cell_type": "markdown",
   "metadata": {},
   "source": [
    "Crea un programa que solicite al usuario ingresar tres números y determine cuál de ellos es el mayor. Utiliza un operador ternario para mostrar el resultado."
   ]
  },
  {
   "cell_type": "code",
   "execution_count": null,
   "metadata": {},
   "outputs": [],
   "source": [
    "\n",
    "numero1 = float(input(\"Ingresa el primer número: \"))\n",
    "numero2 = float(input(\"Ingresa el segundo número: \"))\n",
    "numero3 = float(input(\"Ingresa el tercer número: \"))\n",
    "\n",
    "mayor = numero1 if numero1 > numero2 and numero1 > numero3 else numero2 if numero2 > numero3 else numero3\n",
    "\n",
    "print(f\"El número mayor es {mayor}.\")\n"
   ]
  },
  {
   "cell_type": "markdown",
   "metadata": {},
   "source": [
    "Escribe un programa que solicite al usuario ingresar su edad y, utilizando un operador ternario, determine si es mayor de 18 años y, por lo tanto, puede votar en las elecciones."
   ]
  },
  {
   "cell_type": "code",
   "execution_count": null,
   "metadata": {},
   "outputs": [],
   "source": [
    "\n",
    "edad = int(input(\"Ingresa tu edad: \"))\n",
    "puede_votar = \"puede votar\" if edad >= 18 else \"no puede votar\"\n",
    "print(f\"A los {edad} años, usted {puede_votar}.\")\n"
   ]
  }
 ],
 "metadata": {
  "kernelspec": {
   "display_name": "venv_hola_python",
   "language": "python",
   "name": "python3"
  },
  "language_info": {
   "codemirror_mode": {
    "name": "ipython",
    "version": 3
   },
   "file_extension": ".py",
   "mimetype": "text/x-python",
   "name": "python",
   "nbconvert_exporter": "python",
   "pygments_lexer": "ipython3",
   "version": "3.12.1"
  }
 },
 "nbformat": 4,
 "nbformat_minor": 2
}
