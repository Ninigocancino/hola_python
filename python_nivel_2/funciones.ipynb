{
 "cells": [
  {
   "cell_type": "markdown",
   "metadata": {},
   "source": [
    "# Introducción a las funciones en Python"
   ]
  },
  {
   "cell_type": "markdown",
   "metadata": {},
   "source": [
    "En programación, una función es un bloque de código reutilizable que realiza una tarea o un conjunto de tareas específicas. Las funciones se utilizan para dividir un programa en partes más pequeñas y manejables, lo que facilita la organización, el mantenimiento y la reutilización del código."
   ]
  },
  {
   "cell_type": "markdown",
   "metadata": {},
   "source": [
    "Las funciones tienen varias características clave:\n",
    "\n",
    "**Nombre:** Cada función tiene un nombre que la identifica. El nombre de la función se utiliza para llamarla y ejecutar su código.\n",
    "\n",
    "**Parámetros (o argumentos):** Las funciones pueden recibir datos de entrada, conocidos como parámetros o argumentos. Estos parámetros son variables que se utilizan en el cuerpo de la función para realizar cálculos o acciones. Los parámetros son opcionales y pueden ser utilizados para personalizar la función.\n",
    "\n",
    "**Cuerpo:** El cuerpo de la función contiene las instrucciones y el código que se ejecutan cuando la función es llamada. Es donde se define la lógica y las operaciones que realiza la función.\n",
    "\n",
    "**Retorno:** La mayoría de las funciones devuelven un valor o un resultado utilizando la palabra clave return. Este valor es la salida de la función y puede ser utilizado en otras partes del programa."
   ]
  },
  {
   "cell_type": "markdown",
   "metadata": {},
   "source": [
    "# ¿Cómo crear funciones en Python?"
   ]
  },
  {
   "cell_type": "markdown",
   "metadata": {},
   "source": [
    "*Para mostrar como luce una función en Python crearemos una función que que sume dos numeros e iremos haciendolo línea por línea para que puedas identificar cada parte de una función*"
   ]
  },
  {
   "cell_type": "markdown",
   "metadata": {},
   "source": [
    "**Definir de la función**"
   ]
  },
  {
   "cell_type": "markdown",
   "metadata": {},
   "source": [
    "En Python, una función se define utilizando la palabra clave def, seguida del nombre de la función y paréntesis que pueden contener argumentos. "
   ]
  },
  {
   "cell_type": "code",
   "execution_count": null,
   "metadata": {},
   "outputs": [],
   "source": [
    "#En el ejemplo la función recibirá dos parametros una variable llamada 'a' y otra llamada 'b'\n",
    "#Después del paréntesis es importante colocar ':' para entrar al bloque que debe ejecutarse, de lo contrario la función fallará\n",
    "\n",
    "def suma(a, b):"
   ]
  },
  {
   "cell_type": "markdown",
   "metadata": {},
   "source": [
    "En Python, una función puede tener argumentos obligatorios y argumentos opcionales. En el ejemplo anterior, 'a' y 'b' son argumentos obligatorios. Aunqué también es posible definir argumentos con valores predeterminados, lo que los convierte en opcionales."
   ]
  },
  {
   "cell_type": "markdown",
   "metadata": {},
   "source": [
    "**Agregar el cuerpo de la función**"
   ]
  },
  {
   "cell_type": "markdown",
   "metadata": {},
   "source": [
    "Después de definir nuestra función podemos colocar la lógica que esperamos que ejecute nuestra función, colocando dicha lógica debajo de la línea donde definimos la función y cuidando de mantener la identación adecuada."
   ]
  },
  {
   "cell_type": "code",
   "execution_count": null,
   "metadata": {},
   "outputs": [],
   "source": [
    "#En este caso indicamos a la función que sume los argumentos 'a' y 'b' y que el resultado se guarde en la variable resultado\n",
    "\n",
    "    resultado = a + b\n",
    "\n"
   ]
  },
  {
   "cell_type": "markdown",
   "metadata": {},
   "source": [
    "**Retornar los valores**"
   ]
  },
  {
   "cell_type": "markdown",
   "metadata": {},
   "source": [
    "Las funciones pueden devolver valores utilizando la palabra clave return. Puedes asignar el valor devuelto a una variable:"
   ]
  },
  {
   "cell_type": "code",
   "execution_count": null,
   "metadata": {},
   "outputs": [],
   "source": [
    "#En el aco de nuestra función suma, esta regresa o retorna el resultado almacenado en la variable resultado\n",
    "\n",
    "    return resultado"
   ]
  },
  {
   "cell_type": "markdown",
   "metadata": {},
   "source": [
    "*Con los pasos anteriores nuestra función luce así:*"
   ]
  },
  {
   "cell_type": "code",
   "execution_count": null,
   "metadata": {},
   "outputs": [],
   "source": [
    "def suma(a, b):\n",
    "    resultado = a + b\n",
    "    return resultado\n"
   ]
  },
  {
   "cell_type": "markdown",
   "metadata": {},
   "source": [
    "**Llamar la función**"
   ]
  },
  {
   "cell_type": "markdown",
   "metadata": {},
   "source": [
    "Una vez que hayas definido una función, puedes llamarla para ejecutar su código. Para llamar a la función suma definida anteriormente, simplemente la invocas con los valores deseados:"
   ]
  },
  {
   "cell_type": "code",
   "execution_count": null,
   "metadata": {},
   "outputs": [],
   "source": [
    "resultado = suma(3, 5)\n",
    "print(resultado)  # Esto imprimirá 8\n"
   ]
  },
  {
   "cell_type": "markdown",
   "metadata": {},
   "source": [
    "*Nuestra función completa lucirá así:*"
   ]
  },
  {
   "cell_type": "code",
   "execution_count": null,
   "metadata": {},
   "outputs": [],
   "source": [
    "#Definición de la función\n",
    "def suma(a, b):\n",
    "    resultado = a + b\n",
    "    return resultado\n",
    "\n",
    "#Llamado de la función\n",
    "resultado = suma(3, 5)\n",
    "print(resultado)  # Esto imprimirá 8"
   ]
  },
  {
   "cell_type": "markdown",
   "metadata": {},
   "source": [
    "*Además de lo anterior también debes considerar*"
   ]
  },
  {
   "cell_type": "markdown",
   "metadata": {},
   "source": [
    "**El alcance de las variables**"
   ]
  },
  {
   "cell_type": "markdown",
   "metadata": {},
   "source": [
    "Ten en cuenta que las variables definidas dentro de una función solo son visibles dentro de esa función, a menos que se devuelvan explícitamente. Las variables fuera de la función no pueden acceder a las variables internas de la función:"
   ]
  },
  {
   "cell_type": "code",
   "execution_count": null,
   "metadata": {},
   "outputs": [],
   "source": [
    "def funcion():\n",
    "    x = 10\n",
    "\n",
    "funcion()\n",
    "print(x)  # Esto generará un error, ya que la variable 'x' no está definida fuera de la función.\n"
   ]
  },
  {
   "cell_type": "markdown",
   "metadata": {},
   "source": [
    "**Documentar las funciones**"
   ]
  },
  {
   "cell_type": "markdown",
   "metadata": {},
   "source": [
    "Es una buena práctica documentar tus funciones utilizando comentarios. Puedes incluir una cadena de documentación (docstring) para describir el propósito de la función y sus argumentos"
   ]
  },
  {
   "cell_type": "code",
   "execution_count": null,
   "metadata": {},
   "outputs": [],
   "source": [
    "def dividir(dividendo, divisor):\n",
    "    \"\"\"\n",
    "    Esta función divide el 'dividendo' por el 'divisor' y devuelve el resultado.\n",
    "    \n",
    "    Args:\n",
    "        dividendo (float): El número que se va a dividir.\n",
    "        divisor (float): El número por el cual se va a dividir el dividendo.\n",
    "    \n",
    "    Returns:\n",
    "        float: El resultado de la división.\n",
    "    \"\"\"\n",
    "    if divisor == 0:\n",
    "        return \"No se puede dividir por cero.\"\n",
    "    else:\n",
    "        return dividendo / divisor\n"
   ]
  },
  {
   "cell_type": "markdown",
   "metadata": {},
   "source": [
    "# Utilidad de las funciones"
   ]
  },
  {
   "cell_type": "markdown",
   "metadata": {},
   "source": [
    "Al usar funciones, puedes encapsular una funcionalidad específica en un solo lugar y reutilizarla en múltiples partes de tu programa. Esto promueve la modularidad, la legibilidad y el mantenimiento del código, ya que puedes llamar una función por su nombre en lugar de repetir el mismo código en diferentes lugares, ya que evita la duplicación de código y permite la reutilización de funcionalidades."
   ]
  },
  {
   "cell_type": "markdown",
   "metadata": {},
   "source": [
    "Por ejemplo:\n",
    "\n",
    "Supongamos que necesitas realizar cálculos matemáticos en varios lugares de tu programa. En lugar de escribir la misma fórmula una y otra vez, puedes definir una función para realizar el cálculo y llamarla en diferentes partes de tu código. "
   ]
  },
  {
   "cell_type": "code",
   "execution_count": 3,
   "metadata": {},
   "outputs": [
    {
     "name": "stdout",
     "output_type": "stream",
     "text": [
      "Asigna los valores 8 y 9 a dos variables y sumalos\n",
      "17\n",
      "Asigna los valores 10 y 20 a dos variables y sumalos\n",
      "30\n",
      "Asigna los valores 18 y 19 a dos variables y sumalos\n",
      "37\n"
     ]
    }
   ],
   "source": [
    "print(\"Asigna los valores 8 y 9 a dos variables y sumalos\")\n",
    "a = 8\n",
    "b = 9\n",
    "resultado = a + b \n",
    "print(resultado)\n",
    "\n",
    "\n",
    "\n",
    "print(\"Asigna los valores 10 y 20 a dos variables y sumalos\")\n",
    "c = 10\n",
    "d = 20\n",
    "resultado_2 = c + d \n",
    "print(resultado_2)\n",
    "\n",
    "\n",
    "\n",
    "print(\"Asigna los valores 18 y 19 a dos variables y sumalos\")\n",
    "e = 18\n",
    "f = 19\n",
    "resultado_3 = e + f\n",
    "print(resultado_3)\n"
   ]
  },
  {
   "cell_type": "code",
   "execution_count": 6,
   "metadata": {},
   "outputs": [
    {
     "name": "stdout",
     "output_type": "stream",
     "text": [
      "Asigna los valores 8 y 9 a dos variables y sumalos\n",
      "17\n",
      "Asigna los valores 10 y 20 a dos variables y sumalos\n",
      "30\n",
      "Asigna los valores 18 y 19 a dos variables y sumalos\n",
      "37\n"
     ]
    }
   ],
   "source": [
    "\n",
    "def suma(a, b):\n",
    "    resultado = a + b\n",
    "    return resultado\n",
    "\n",
    "\n",
    "\n",
    "print(\"Asigna los valores 8 y 9 a dos variables y sumalos\")\n",
    "r_1 = suma(8, 9)\n",
    "print(r_1)  \n",
    "\n",
    "\n",
    "print(\"Asigna los valores 10 y 20 a dos variables y sumalos\")\n",
    "r_2 = suma(10, 20)\n",
    "print(r_2)  \n",
    "\n",
    "\n",
    "print(\"Asigna los valores 18 y 19 a dos variables y sumalos\")\n",
    "r_3 = suma(18, 19)\n",
    "print(r_3)  "
   ]
  },
  {
   "cell_type": "markdown",
   "metadata": {},
   "source": [
    "# Funiones como objeto"
   ]
  },
  {
   "cell_type": "markdown",
   "metadata": {},
   "source": [
    "En Python, las funciones son objetos de primera clase, lo que significa que puedes pasar funciones como argumentos a otras funciones y devolver funciones desde otras funciones.\n",
    "\n",
    "El término \"objetos de primera clase\" se refiere a la capacidad de tratar las funciones como objetos de la misma manera que se tratan otros tipos de datos, como enteros, cadenas o listas. Esto significa que las funciones en Python pueden ser asignadas a variables, pasadas como argumentos a otras funciones, y devueltas como valores desde otras funciones."
   ]
  },
  {
   "cell_type": "markdown",
   "metadata": {},
   "source": [
    "Aquí hay algunos ejemplos que ilustran esta propiedad de funciones como objetos de primera clase en Python:"
   ]
  },
  {
   "cell_type": "markdown",
   "metadata": {},
   "source": [
    "**Asignación a variables:**\n",
    "\n",
    "Puedes asignar una función a una variable, y luego usar esa variable para llamar a la función:"
   ]
  },
  {
   "cell_type": "code",
   "execution_count": null,
   "metadata": {},
   "outputs": [],
   "source": [
    "def saludar(nombre):\n",
    "    return \"Hola, \" + nombre\n",
    "\n",
    "# Asignar la función a una variable\n",
    "mi_saludo = saludar\n",
    "\n",
    "# Llamar a la función a través de la variable\n",
    "resultado = mi_saludo(\"Juan\")\n",
    "print(resultado)  # Esto imprimirá \"Hola, Juan\"\n"
   ]
  },
  {
   "cell_type": "markdown",
   "metadata": {},
   "source": [
    "**Pasando funciones como argumentos:**\n",
    "\n",
    "Puedes pasar funciones como argumentos a otras funciones. Esto es útil cuando quieres que una función pueda aceptar diferentes comportamientos:"
   ]
  },
  {
   "cell_type": "code",
   "execution_count": null,
   "metadata": {},
   "outputs": [],
   "source": [
    "def aplicar_operacion(funcion, valor):\n",
    "    return funcion(valor)\n",
    "\n",
    "def cuadrado(x):\n",
    "    return x * x\n",
    "\n",
    "resultado = aplicar_operacion(cuadrado, 5)\n",
    "print(resultado)  # Esto imprimirá 25\n"
   ]
  },
  {
   "cell_type": "markdown",
   "metadata": {},
   "source": [
    "Aquí, aplicar_operacion toma una función y un valor, y aplica esa función al valor."
   ]
  },
  {
   "cell_type": "markdown",
   "metadata": {},
   "source": [
    "**Devolver funciones desde funciones:**\n",
    "\n",
    "También puedes devolver funciones desde otras funciones. Esto es útil para construir funciones más complejas o para personalizar el comportamiento de una función:"
   ]
  },
  {
   "cell_type": "code",
   "execution_count": null,
   "metadata": {},
   "outputs": [],
   "source": [
    "def crear_sumador(n):\n",
    "    def sumar(x):\n",
    "        return x + n\n",
    "    return sumar\n",
    "\n",
    "sumar_5 = crear_sumador(5)\n",
    "resultado = sumar_5(3)\n",
    "print(resultado)  # Esto imprimirá 8\n"
   ]
  },
  {
   "cell_type": "markdown",
   "metadata": {},
   "source": [
    "En este ejemplo, crear_sumador devuelve una función sumar que tiene incorporado el valor n."
   ]
  },
  {
   "cell_type": "markdown",
   "metadata": {},
   "source": [
    "La capacidad de tratar las funciones como objetos de primera clase en Python es una característica poderosa que permite un estilo de programación más flexible y expresivo. Esto se utiliza comúnmente en conceptos como programación funcional y puede hacer que tu código sea más conciso y fácil de entender."
   ]
  }
 ],
 "metadata": {
  "kernelspec": {
   "display_name": "venv_hola_python",
   "language": "python",
   "name": "python3"
  },
  "language_info": {
   "codemirror_mode": {
    "name": "ipython",
    "version": 3
   },
   "file_extension": ".py",
   "mimetype": "text/x-python",
   "name": "python",
   "nbconvert_exporter": "python",
   "pygments_lexer": "ipython3",
   "version": "3.7.3"
  }
 },
 "nbformat": 4,
 "nbformat_minor": 2
}
